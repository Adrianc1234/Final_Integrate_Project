{
  "nbformat": 4,
  "nbformat_minor": 0,
  "metadata": {
    "colab": {
      "provenance": []
    },
    "kernelspec": {
      "name": "python3",
      "display_name": "Python 3"
    },
    "language_info": {
      "name": "python"
    },
    "accelerator": "GPU",
    "gpuClass": "standard"
  },
  "cells": [
    {
      "cell_type": "markdown",
      "source": [
        "# LSTM beta version\n"
      ],
      "metadata": {
        "id": "87qzBL3XIfR_"
      }
    },
    {
      "cell_type": "code",
      "source": [
        "from google.colab import drive\n",
        "drive.mount('/content/drive')\n",
        "\n",
        "import pandas as pd\n",
        "import numpy as np\n",
        "import string\n",
        "from tensorflow.keras.preprocessing.text import Tokenizer\n",
        "from tensorflow.keras.preprocessing.sequence import pad_sequences\n",
        "import matplotlib.pyplot as plt\n",
        "import seaborn as sns\n",
        "from nltk.corpus import stopwords\n",
        "from nltk.tokenize import word_tokenize\n",
        "import nltk\n",
        "import re\n",
        "import multiprocessing\n",
        "import tensorflow as tf\n",
        "from sklearn.model_selection import train_test_split\n",
        "nltk.download(\"stopwords\")\n",
        "\n",
        "import warnings\n",
        "warnings.filterwarnings(\"ignore\")\n",
        "\n",
        "#libraries for cleanning\n",
        "from collections import Counter\n",
        "pd.options.mode.chained_assignment = None\n",
        "from collections import defaultdict\n",
        "from string import punctuation "
      ],
      "metadata": {
        "colab": {
          "base_uri": "https://localhost:8080/"
        },
        "id": "hRoyhBnJd-YC",
        "outputId": "c60dddfd-7a29-41da-d142-d2409fee6adf"
      },
      "execution_count": 1,
      "outputs": [
        {
          "output_type": "stream",
          "name": "stdout",
          "text": [
            "Mounted at /content/drive\n"
          ]
        },
        {
          "output_type": "stream",
          "name": "stderr",
          "text": [
            "[nltk_data] Downloading package stopwords to /root/nltk_data...\n",
            "[nltk_data]   Unzipping corpora/stopwords.zip.\n"
          ]
        }
      ]
    },
    {
      "cell_type": "code",
      "source": [
        "import nltk\n",
        "nltk.download('stopwords')\n",
        "df = pd.read_csv('/content/drive/MyDrive/cuatrimestres/Noveno cuatri/Natural Language Preprocessing/Project/data.csv',\n",
        "            encoding = \"ISO-8859-1\")\n",
        "df = df[df['Lang'] == 'en']\n",
        "df = df.drop(['Lang', 'Date', 'Location','User'], axis = 1) #quitando columnas inecesarias\n",
        "df\n",
        "\n"
      ],
      "metadata": {
        "colab": {
          "base_uri": "https://localhost:8080/",
          "height": 458
        },
        "id": "3-P3MGypInRO",
        "outputId": "1e9b6bf9-a223-4624-e0d3-e4e222a465f2"
      },
      "execution_count": 2,
      "outputs": [
        {
          "output_type": "stream",
          "name": "stderr",
          "text": [
            "[nltk_data] Downloading package stopwords to /root/nltk_data...\n",
            "[nltk_data]   Package stopwords is already up-to-date!\n"
          ]
        },
        {
          "output_type": "execute_result",
          "data": {
            "text/plain": [
              "                                                   Tweet  Label\n",
              "0      I need paradigm on apple music now ðµâð«...      0\n",
              "1      ð­hbo go\\n\\n1 month solo: â±300\\n1 month sh...      0\n",
              "2      I still use my Apple Music just so I can liste...      0\n",
              "3      Officially switched from Apple Music to Spotif...      0\n",
              "4      Apple Music so damn irritating bitch where is ...      0\n",
              "...                                                  ...    ...\n",
              "99688  Bought Spotify premium for my family but that ...      1\n",
              "99689  SPOTIFY DELETED THE PODCAST VERSION OF HITS DI...      1\n",
              "99690  Also I'm Xylophagous on spotify if anyone on h...      1\n",
              "99691  Thereâs a very specific version of this song...      1\n",
              "99692  Honestly? I can't wait to see what my Spotify ...      1\n",
              "\n",
              "[99693 rows x 2 columns]"
            ],
            "text/html": [
              "\n",
              "  <div id=\"df-18e3d7a0-615e-4365-b0ef-de7b9a3e79d9\">\n",
              "    <div class=\"colab-df-container\">\n",
              "      <div>\n",
              "<style scoped>\n",
              "    .dataframe tbody tr th:only-of-type {\n",
              "        vertical-align: middle;\n",
              "    }\n",
              "\n",
              "    .dataframe tbody tr th {\n",
              "        vertical-align: top;\n",
              "    }\n",
              "\n",
              "    .dataframe thead th {\n",
              "        text-align: right;\n",
              "    }\n",
              "</style>\n",
              "<table border=\"1\" class=\"dataframe\">\n",
              "  <thead>\n",
              "    <tr style=\"text-align: right;\">\n",
              "      <th></th>\n",
              "      <th>Tweet</th>\n",
              "      <th>Label</th>\n",
              "    </tr>\n",
              "  </thead>\n",
              "  <tbody>\n",
              "    <tr>\n",
              "      <th>0</th>\n",
              "      <td>I need paradigm on apple music now ðµâð«...</td>\n",
              "      <td>0</td>\n",
              "    </tr>\n",
              "    <tr>\n",
              "      <th>1</th>\n",
              "      <td>ð­hbo go\\n\\n1 month solo: â±300\\n1 month sh...</td>\n",
              "      <td>0</td>\n",
              "    </tr>\n",
              "    <tr>\n",
              "      <th>2</th>\n",
              "      <td>I still use my Apple Music just so I can liste...</td>\n",
              "      <td>0</td>\n",
              "    </tr>\n",
              "    <tr>\n",
              "      <th>3</th>\n",
              "      <td>Officially switched from Apple Music to Spotif...</td>\n",
              "      <td>0</td>\n",
              "    </tr>\n",
              "    <tr>\n",
              "      <th>4</th>\n",
              "      <td>Apple Music so damn irritating bitch where is ...</td>\n",
              "      <td>0</td>\n",
              "    </tr>\n",
              "    <tr>\n",
              "      <th>...</th>\n",
              "      <td>...</td>\n",
              "      <td>...</td>\n",
              "    </tr>\n",
              "    <tr>\n",
              "      <th>99688</th>\n",
              "      <td>Bought Spotify premium for my family but that ...</td>\n",
              "      <td>1</td>\n",
              "    </tr>\n",
              "    <tr>\n",
              "      <th>99689</th>\n",
              "      <td>SPOTIFY DELETED THE PODCAST VERSION OF HITS DI...</td>\n",
              "      <td>1</td>\n",
              "    </tr>\n",
              "    <tr>\n",
              "      <th>99690</th>\n",
              "      <td>Also I'm Xylophagous on spotify if anyone on h...</td>\n",
              "      <td>1</td>\n",
              "    </tr>\n",
              "    <tr>\n",
              "      <th>99691</th>\n",
              "      <td>Thereâs a very specific version of this song...</td>\n",
              "      <td>1</td>\n",
              "    </tr>\n",
              "    <tr>\n",
              "      <th>99692</th>\n",
              "      <td>Honestly? I can't wait to see what my Spotify ...</td>\n",
              "      <td>1</td>\n",
              "    </tr>\n",
              "  </tbody>\n",
              "</table>\n",
              "<p>99693 rows × 2 columns</p>\n",
              "</div>\n",
              "      <button class=\"colab-df-convert\" onclick=\"convertToInteractive('df-18e3d7a0-615e-4365-b0ef-de7b9a3e79d9')\"\n",
              "              title=\"Convert this dataframe to an interactive table.\"\n",
              "              style=\"display:none;\">\n",
              "        \n",
              "  <svg xmlns=\"http://www.w3.org/2000/svg\" height=\"24px\"viewBox=\"0 0 24 24\"\n",
              "       width=\"24px\">\n",
              "    <path d=\"M0 0h24v24H0V0z\" fill=\"none\"/>\n",
              "    <path d=\"M18.56 5.44l.94 2.06.94-2.06 2.06-.94-2.06-.94-.94-2.06-.94 2.06-2.06.94zm-11 1L8.5 8.5l.94-2.06 2.06-.94-2.06-.94L8.5 2.5l-.94 2.06-2.06.94zm10 10l.94 2.06.94-2.06 2.06-.94-2.06-.94-.94-2.06-.94 2.06-2.06.94z\"/><path d=\"M17.41 7.96l-1.37-1.37c-.4-.4-.92-.59-1.43-.59-.52 0-1.04.2-1.43.59L10.3 9.45l-7.72 7.72c-.78.78-.78 2.05 0 2.83L4 21.41c.39.39.9.59 1.41.59.51 0 1.02-.2 1.41-.59l7.78-7.78 2.81-2.81c.8-.78.8-2.07 0-2.86zM5.41 20L4 18.59l7.72-7.72 1.47 1.35L5.41 20z\"/>\n",
              "  </svg>\n",
              "      </button>\n",
              "      \n",
              "  <style>\n",
              "    .colab-df-container {\n",
              "      display:flex;\n",
              "      flex-wrap:wrap;\n",
              "      gap: 12px;\n",
              "    }\n",
              "\n",
              "    .colab-df-convert {\n",
              "      background-color: #E8F0FE;\n",
              "      border: none;\n",
              "      border-radius: 50%;\n",
              "      cursor: pointer;\n",
              "      display: none;\n",
              "      fill: #1967D2;\n",
              "      height: 32px;\n",
              "      padding: 0 0 0 0;\n",
              "      width: 32px;\n",
              "    }\n",
              "\n",
              "    .colab-df-convert:hover {\n",
              "      background-color: #E2EBFA;\n",
              "      box-shadow: 0px 1px 2px rgba(60, 64, 67, 0.3), 0px 1px 3px 1px rgba(60, 64, 67, 0.15);\n",
              "      fill: #174EA6;\n",
              "    }\n",
              "\n",
              "    [theme=dark] .colab-df-convert {\n",
              "      background-color: #3B4455;\n",
              "      fill: #D2E3FC;\n",
              "    }\n",
              "\n",
              "    [theme=dark] .colab-df-convert:hover {\n",
              "      background-color: #434B5C;\n",
              "      box-shadow: 0px 1px 3px 1px rgba(0, 0, 0, 0.15);\n",
              "      filter: drop-shadow(0px 1px 2px rgba(0, 0, 0, 0.3));\n",
              "      fill: #FFFFFF;\n",
              "    }\n",
              "  </style>\n",
              "\n",
              "      <script>\n",
              "        const buttonEl =\n",
              "          document.querySelector('#df-18e3d7a0-615e-4365-b0ef-de7b9a3e79d9 button.colab-df-convert');\n",
              "        buttonEl.style.display =\n",
              "          google.colab.kernel.accessAllowed ? 'block' : 'none';\n",
              "\n",
              "        async function convertToInteractive(key) {\n",
              "          const element = document.querySelector('#df-18e3d7a0-615e-4365-b0ef-de7b9a3e79d9');\n",
              "          const dataTable =\n",
              "            await google.colab.kernel.invokeFunction('convertToInteractive',\n",
              "                                                     [key], {});\n",
              "          if (!dataTable) return;\n",
              "\n",
              "          const docLinkHtml = 'Like what you see? Visit the ' +\n",
              "            '<a target=\"_blank\" href=https://colab.research.google.com/notebooks/data_table.ipynb>data table notebook</a>'\n",
              "            + ' to learn more about interactive tables.';\n",
              "          element.innerHTML = '';\n",
              "          dataTable['output_type'] = 'display_data';\n",
              "          await google.colab.output.renderOutput(dataTable, element);\n",
              "          const docLink = document.createElement('div');\n",
              "          docLink.innerHTML = docLinkHtml;\n",
              "          element.appendChild(docLink);\n",
              "        }\n",
              "      </script>\n",
              "    </div>\n",
              "  </div>\n",
              "  "
            ]
          },
          "metadata": {},
          "execution_count": 2
        }
      ]
    },
    {
      "cell_type": "code",
      "source": [
        "from nltk.corpus import stopwords\n",
        "from nltk.tokenize import TweetTokenizer\n",
        "from nltk.stem import PorterStemmer\n",
        "import re\n",
        "\n",
        "def scrub_words(text):\n",
        "    # remove html markup\n",
        "    text=re.sub(\"(<.*?>)\",\"\",text)\n",
        "    \n",
        "    #remove non-ascii and digits\n",
        "    text=re.sub(\"(\\\\W|\\\\d)\",\" \",text)\n",
        "  \n",
        "    #remove whitespace\n",
        "    text=text.strip()\n",
        "    return text\n",
        "  \n",
        "#Noise removal, stop word removal, normalizing?\n",
        "def cleanString(s, special_chars = \"\\\":,.@|ðÿœžðÿâœœïÿœžÿºÿÿœžÿ\"):\n",
        "    for char in special_chars:\n",
        "        s = s.replace(char, \"\")\n",
        "    s = s.replace(\"\\n\", \"\")\n",
        "    s = scrub_words(s)\n",
        "    tokenizer = TweetTokenizer()\n",
        "    stop_words = set(stopwords.words('english'))\n",
        "    cleaned_words = [w for w in tokenizer.tokenize(s) if w not in stop_words]\n",
        "    return \" \".join(cleaned_words)\n",
        "\n",
        "def stemWords(sentence):\n",
        "    stemmer, tokenizer = PorterStemmer(), TweetTokenizer()\n",
        "    stemmed_words = [stemmer.stem(w) for w in tokenizer.tokenize(sentence)]\n",
        "    return \" \".join(stemmed_words)\n",
        "    \n",
        "def cleanFrame(frame):\n",
        "    frame['clean_tweet'] = frame.Tweet.apply(cleanString)\n",
        "\n",
        "def stemFrame(frame):\n",
        "    frame['stem_tweet'] = frame.clean_tweet.apply(stemWords)\n",
        "\n",
        "cleanFrame(df)\n",
        "stemFrame(df)\n",
        "df.head()"
      ],
      "metadata": {
        "colab": {
          "base_uri": "https://localhost:8080/",
          "height": 206
        },
        "id": "MebWg0Yvc1E5",
        "outputId": "0f0ddb64-10a0-4ae5-b2a6-1dff0becacf2"
      },
      "execution_count": null,
      "outputs": [
        {
          "output_type": "execute_result",
          "data": {
            "text/plain": [
              "                                               Tweet  Label  \\\n",
              "0  I need paradigm on apple music now ðµâð«...      0   \n",
              "1  ð­hbo go\\n\\n1 month solo: â±300\\n1 month sh...      0   \n",
              "2  I still use my Apple Music just so I can liste...      0   \n",
              "3  Officially switched from Apple Music to Spotif...      0   \n",
              "4  Apple Music so damn irritating bitch where is ...      0   \n",
              "\n",
              "                                         clean_tweet  \\\n",
              "0      I need paradigm apple music µ itunes link let   \n",
              "1  hbo go month solo month shared months shared h...   \n",
              "2  I still use Apple Music I listen embarrassing ...   \n",
              "3  Officially switched Apple Music Spotify idek I...   \n",
              "4            Apple Music damn irritating bitch music   \n",
              "\n",
              "                                          stem_tweet  \n",
              "0         i need paradigm appl music µ itun link let  \n",
              "1  hbo go month solo month share month share hbo ...  \n",
              "2  i still use appl music i listen embarrass musi...  \n",
              "3       offici switch appl music spotifi idek i feel  \n",
              "4                  appl music damn irrit bitch music  "
            ],
            "text/html": [
              "\n",
              "  <div id=\"df-bb4cbc2d-4e7f-4ed6-a3ed-64b86f04f99e\">\n",
              "    <div class=\"colab-df-container\">\n",
              "      <div>\n",
              "<style scoped>\n",
              "    .dataframe tbody tr th:only-of-type {\n",
              "        vertical-align: middle;\n",
              "    }\n",
              "\n",
              "    .dataframe tbody tr th {\n",
              "        vertical-align: top;\n",
              "    }\n",
              "\n",
              "    .dataframe thead th {\n",
              "        text-align: right;\n",
              "    }\n",
              "</style>\n",
              "<table border=\"1\" class=\"dataframe\">\n",
              "  <thead>\n",
              "    <tr style=\"text-align: right;\">\n",
              "      <th></th>\n",
              "      <th>Tweet</th>\n",
              "      <th>Label</th>\n",
              "      <th>clean_tweet</th>\n",
              "      <th>stem_tweet</th>\n",
              "    </tr>\n",
              "  </thead>\n",
              "  <tbody>\n",
              "    <tr>\n",
              "      <th>0</th>\n",
              "      <td>I need paradigm on apple music now ðµâð«...</td>\n",
              "      <td>0</td>\n",
              "      <td>I need paradigm apple music µ itunes link let</td>\n",
              "      <td>i need paradigm appl music µ itun link let</td>\n",
              "    </tr>\n",
              "    <tr>\n",
              "      <th>1</th>\n",
              "      <td>ð­hbo go\\n\\n1 month solo: â±300\\n1 month sh...</td>\n",
              "      <td>0</td>\n",
              "      <td>hbo go month solo month shared months shared h...</td>\n",
              "      <td>hbo go month solo month share month share hbo ...</td>\n",
              "    </tr>\n",
              "    <tr>\n",
              "      <th>2</th>\n",
              "      <td>I still use my Apple Music just so I can liste...</td>\n",
              "      <td>0</td>\n",
              "      <td>I still use Apple Music I listen embarrassing ...</td>\n",
              "      <td>i still use appl music i listen embarrass musi...</td>\n",
              "    </tr>\n",
              "    <tr>\n",
              "      <th>3</th>\n",
              "      <td>Officially switched from Apple Music to Spotif...</td>\n",
              "      <td>0</td>\n",
              "      <td>Officially switched Apple Music Spotify idek I...</td>\n",
              "      <td>offici switch appl music spotifi idek i feel</td>\n",
              "    </tr>\n",
              "    <tr>\n",
              "      <th>4</th>\n",
              "      <td>Apple Music so damn irritating bitch where is ...</td>\n",
              "      <td>0</td>\n",
              "      <td>Apple Music damn irritating bitch music</td>\n",
              "      <td>appl music damn irrit bitch music</td>\n",
              "    </tr>\n",
              "  </tbody>\n",
              "</table>\n",
              "</div>\n",
              "      <button class=\"colab-df-convert\" onclick=\"convertToInteractive('df-bb4cbc2d-4e7f-4ed6-a3ed-64b86f04f99e')\"\n",
              "              title=\"Convert this dataframe to an interactive table.\"\n",
              "              style=\"display:none;\">\n",
              "        \n",
              "  <svg xmlns=\"http://www.w3.org/2000/svg\" height=\"24px\"viewBox=\"0 0 24 24\"\n",
              "       width=\"24px\">\n",
              "    <path d=\"M0 0h24v24H0V0z\" fill=\"none\"/>\n",
              "    <path d=\"M18.56 5.44l.94 2.06.94-2.06 2.06-.94-2.06-.94-.94-2.06-.94 2.06-2.06.94zm-11 1L8.5 8.5l.94-2.06 2.06-.94-2.06-.94L8.5 2.5l-.94 2.06-2.06.94zm10 10l.94 2.06.94-2.06 2.06-.94-2.06-.94-.94-2.06-.94 2.06-2.06.94z\"/><path d=\"M17.41 7.96l-1.37-1.37c-.4-.4-.92-.59-1.43-.59-.52 0-1.04.2-1.43.59L10.3 9.45l-7.72 7.72c-.78.78-.78 2.05 0 2.83L4 21.41c.39.39.9.59 1.41.59.51 0 1.02-.2 1.41-.59l7.78-7.78 2.81-2.81c.8-.78.8-2.07 0-2.86zM5.41 20L4 18.59l7.72-7.72 1.47 1.35L5.41 20z\"/>\n",
              "  </svg>\n",
              "      </button>\n",
              "      \n",
              "  <style>\n",
              "    .colab-df-container {\n",
              "      display:flex;\n",
              "      flex-wrap:wrap;\n",
              "      gap: 12px;\n",
              "    }\n",
              "\n",
              "    .colab-df-convert {\n",
              "      background-color: #E8F0FE;\n",
              "      border: none;\n",
              "      border-radius: 50%;\n",
              "      cursor: pointer;\n",
              "      display: none;\n",
              "      fill: #1967D2;\n",
              "      height: 32px;\n",
              "      padding: 0 0 0 0;\n",
              "      width: 32px;\n",
              "    }\n",
              "\n",
              "    .colab-df-convert:hover {\n",
              "      background-color: #E2EBFA;\n",
              "      box-shadow: 0px 1px 2px rgba(60, 64, 67, 0.3), 0px 1px 3px 1px rgba(60, 64, 67, 0.15);\n",
              "      fill: #174EA6;\n",
              "    }\n",
              "\n",
              "    [theme=dark] .colab-df-convert {\n",
              "      background-color: #3B4455;\n",
              "      fill: #D2E3FC;\n",
              "    }\n",
              "\n",
              "    [theme=dark] .colab-df-convert:hover {\n",
              "      background-color: #434B5C;\n",
              "      box-shadow: 0px 1px 3px 1px rgba(0, 0, 0, 0.15);\n",
              "      filter: drop-shadow(0px 1px 2px rgba(0, 0, 0, 0.3));\n",
              "      fill: #FFFFFF;\n",
              "    }\n",
              "  </style>\n",
              "\n",
              "      <script>\n",
              "        const buttonEl =\n",
              "          document.querySelector('#df-bb4cbc2d-4e7f-4ed6-a3ed-64b86f04f99e button.colab-df-convert');\n",
              "        buttonEl.style.display =\n",
              "          google.colab.kernel.accessAllowed ? 'block' : 'none';\n",
              "\n",
              "        async function convertToInteractive(key) {\n",
              "          const element = document.querySelector('#df-bb4cbc2d-4e7f-4ed6-a3ed-64b86f04f99e');\n",
              "          const dataTable =\n",
              "            await google.colab.kernel.invokeFunction('convertToInteractive',\n",
              "                                                     [key], {});\n",
              "          if (!dataTable) return;\n",
              "\n",
              "          const docLinkHtml = 'Like what you see? Visit the ' +\n",
              "            '<a target=\"_blank\" href=https://colab.research.google.com/notebooks/data_table.ipynb>data table notebook</a>'\n",
              "            + ' to learn more about interactive tables.';\n",
              "          element.innerHTML = '';\n",
              "          dataTable['output_type'] = 'display_data';\n",
              "          await google.colab.output.renderOutput(dataTable, element);\n",
              "          const docLink = document.createElement('div');\n",
              "          docLink.innerHTML = docLinkHtml;\n",
              "          element.appendChild(docLink);\n",
              "        }\n",
              "      </script>\n",
              "    </div>\n",
              "  </div>\n",
              "  "
            ]
          },
          "metadata": {},
          "execution_count": 18
        }
      ]
    },
    {
      "cell_type": "code",
      "source": [
        "data = df['stem_tweet']\n",
        "labels = np.array(df['Label'])"
      ],
      "metadata": {
        "id": "wbVwPvztf8rV"
      },
      "execution_count": null,
      "outputs": []
    },
    {
      "cell_type": "code",
      "source": [
        "# Split in training validation and test sets\n",
        "X_train, X_test, y_train, y_test = test = train_test_split(data, labels,test_size=0.02,\n",
        "                                                           random_state=1,\n",
        "                                                           stratify = labels)"
      ],
      "metadata": {
        "id": "de_l7fH7fo4I"
      },
      "execution_count": null,
      "outputs": []
    },
    {
      "cell_type": "code",
      "source": [
        "from __future__ import print_function\n",
        "import numpy as np\n",
        "\n",
        "from tensorflow.keras.utils import pad_sequences\n",
        "from keras.models import Sequential\n",
        "from keras.layers import Dense, Dropout, Embedding, LSTM, Bidirectional\n",
        "from keras.datasets import imdb\n",
        "\n",
        "\n",
        "\n",
        "max_features = 2000\n",
        "# cut texts after this number of words\n",
        "# (among top max_features most common words)\n",
        "maxlen = 100\n",
        "batch_size = 32\n",
        "\n",
        "print('Loading data...')\n",
        "(x_train, y_train), (x_test, y_test) = imdb.load_data(num_words=max_features)\n",
        "print(len(x_train), 'train sequences')\n",
        "print(len(x_test), 'test sequences')\n",
        "print('x_test shape:', x_test.shape)\n",
        "#x_test.shape\n",
        "print('Pad sequences (samples x time)')\n",
        "x_train = pad_sequences(x_train, maxlen=maxlen)\n",
        "x_test = pad_sequences(x_test, maxlen=maxlen)\n",
        "print('x_train shape:', x_train.shape)\n",
        "print('x_test shape:', x_test.shape)\n",
        "y_train = np.array(y_train)\n",
        "y_test = np.array(y_test)"
      ],
      "metadata": {
        "colab": {
          "base_uri": "https://localhost:8080/"
        },
        "id": "SVAkxRIcfo1m",
        "outputId": "b06b9e35-31d6-4e20-c4c1-2da7142e75c8"
      },
      "execution_count": null,
      "outputs": [
        {
          "output_type": "stream",
          "name": "stdout",
          "text": [
            "Loading data...\n",
            "Downloading data from https://storage.googleapis.com/tensorflow/tf-keras-datasets/imdb.npz\n",
            "17464789/17464789 [==============================] - 2s 0us/step\n",
            "25000 train sequences\n",
            "25000 test sequences\n",
            "x_test shape: (25000,)\n",
            "Pad sequences (samples x time)\n",
            "x_train shape: (25000, 100)\n",
            "x_test shape: (25000, 100)\n"
          ]
        }
      ]
    },
    {
      "cell_type": "code",
      "source": [
        "#embedding_dim = 40\n",
        "\n",
        "from keras import backend as K\n",
        "\n",
        "def recall_m(y_true, y_pred):\n",
        "    true_positives = K.sum(K.round(K.clip(y_true * y_pred, 0, 1)))\n",
        "    possible_positives = K.sum(K.round(K.clip(y_true, 0, 1)))\n",
        "    recall = true_positives / (possible_positives + K.epsilon())\n",
        "    return recall\n",
        "\n",
        "def precision_m(y_true, y_pred):\n",
        "    true_positives = K.sum(K.round(K.clip(y_true * y_pred, 0, 1)))\n",
        "    predicted_positives = K.sum(K.round(K.clip(y_pred, 0, 1)))\n",
        "    precision = true_positives / (predicted_positives + K.epsilon())\n",
        "    return precision\n",
        "\n",
        "def f1_m(y_true, y_pred):\n",
        "    precision = precision_m(y_true, y_pred)\n",
        "    recall = recall_m(y_true, y_pred)\n",
        "    return 2*((precision*recall)/(precision+recall+K.epsilon()))"
      ],
      "metadata": {
        "id": "q4y8_A8viXee"
      },
      "execution_count": null,
      "outputs": []
    },
    {
      "cell_type": "code",
      "source": [
        "model = Sequential()\n",
        "model.add(Embedding(max_features, 128, input_length=maxlen))\n",
        "model.add(Bidirectional(LSTM(64)))\n",
        "model.add(Dropout(0.4))\n",
        "model.add(Dense(1, activation='sigmoid'))\n",
        "\n",
        "# try using different optimizers and different optimizer configs\n",
        "model.compile('adam', 'binary_crossentropy', metrics=['accuracy'])\n",
        "\n",
        "print('Train...')\n",
        "model.fit(x_train, y_train,\n",
        "          batch_size=batch_size,\n",
        "          epochs=4,\n",
        "          validation_data=[x_test, y_test])\n",
        "\n",
        "# saving and loading the .h5 model\n",
        " \n",
        "# save model\n",
        "model.save('Model.h5')\n",
        "print('Model Saved!')\n",
        " \n",
        "# load model\n",
        "#savedModel=load_model('Model.h5')\n",
        "#savedModel.summary()"
      ],
      "metadata": {
        "colab": {
          "base_uri": "https://localhost:8080/"
        },
        "id": "C-DG0uY6foy1",
        "outputId": "5b891543-143d-419b-dc4c-017a73f225a7"
      },
      "execution_count": null,
      "outputs": [
        {
          "output_type": "stream",
          "name": "stdout",
          "text": [
            "Train...\n",
            "Epoch 1/4\n",
            "782/782 [==============================] - 19s 18ms/step - loss: 0.4459 - accuracy: 0.7871 - val_loss: 0.3638 - val_accuracy: 0.8391\n",
            "Epoch 2/4\n",
            "782/782 [==============================] - 14s 17ms/step - loss: 0.3326 - accuracy: 0.8566 - val_loss: 0.3466 - val_accuracy: 0.8460\n",
            "Epoch 3/4\n",
            "782/782 [==============================] - 14s 17ms/step - loss: 0.2863 - accuracy: 0.8780 - val_loss: 0.3603 - val_accuracy: 0.8471\n",
            "Epoch 4/4\n",
            "782/782 [==============================] - 14s 17ms/step - loss: 0.2520 - accuracy: 0.8964 - val_loss: 0.3589 - val_accuracy: 0.8412\n",
            "Model Saved!\n"
          ]
        }
      ]
    },
    {
      "cell_type": "code",
      "source": [
        "import matplotlib.pyplot as plt\n",
        "from sklearn.metrics import auc\n",
        "from sklearn.metrics import roc_curve\n",
        "\n",
        "class ModelROC:\n",
        "    def __init__(self, model, X_test, y_test, legend):\n",
        "        self.model = model\n",
        "        y_pred = self.getPredictions(X_test)\n",
        "        fpr, tpr, treshold = roc_curve(y_test, y_pred)\n",
        "        self.fpr = fpr\n",
        "        self.tpr = tpr\n",
        "        self.treshold = treshold\n",
        "        self.auc = auc(fpr, tpr)\n",
        "        self.legend = legend\n",
        "        print(\"Area under the curve \" + self.legend + \" \" + str(self.auc))\n",
        "    \n",
        "    def getPredictions(self, X_test):\n",
        "        return self.model.predict(X_test)\n",
        "    \n",
        "    def plotData(self):\n",
        "        plt.plot([0, 1], [0, 1], 'k--')\n",
        "        plt.plot(self.fpr, self.tpr, label= self.legend + ' (area = {:.3f})'.format(self.auc))\n",
        "        plt.xlabel('False positive rate')\n",
        "        plt.ylabel('True positive rate')\n",
        "        plt.title('ROC curve')\n",
        "        plt.legend(loc='best')\n",
        "        \n",
        "    def plot(self):\n",
        "        plt.figure(1)\n",
        "        self.plotData()\n",
        "        plt.show()\n",
        "        \n",
        "    def plotZoom(self, zoom_x, zoom_y):\n",
        "        plt.figure(2)\n",
        "        plt.xlim(zoom_x[0], zoom_x[1])\n",
        "        plt.ylim(zoom_y[0], zoom_y[1])\n",
        "        self.plotData()\n",
        "        plt.show()\n",
        "\n",
        "k = ModelROC(model, x_test, y_test, 'LSTM model')"
      ],
      "metadata": {
        "colab": {
          "base_uri": "https://localhost:8080/"
        },
        "id": "dhJB2OHEfowT",
        "outputId": "13510dcc-84af-44c9-d2b3-c07858b218dd"
      },
      "execution_count": null,
      "outputs": [
        {
          "output_type": "stream",
          "name": "stdout",
          "text": [
            "782/782 [==============================] - 30s 37ms/step\n",
            "Area under the curve LSTM model 0.9136476064000001\n"
          ]
        }
      ]
    },
    {
      "cell_type": "code",
      "source": [
        "k.getPredictions(x_test)"
      ],
      "metadata": {
        "colab": {
          "base_uri": "https://localhost:8080/"
        },
        "id": "yv4NKOUHjE7I",
        "outputId": "9e5905f0-e821-4178-9009-9d6a87762837"
      },
      "execution_count": null,
      "outputs": [
        {
          "output_type": "stream",
          "name": "stdout",
          "text": [
            "782/782 [==============================] - 28s 35ms/step\n"
          ]
        },
        {
          "output_type": "execute_result",
          "data": {
            "text/plain": [
              "array([[5.5419081e-01],\n",
              "       [9.9999428e-01],\n",
              "       [9.5385957e-01],\n",
              "       ...,\n",
              "       [3.5391722e-04],\n",
              "       [9.6878866e-03],\n",
              "       [9.7773874e-01]], dtype=float32)"
            ]
          },
          "metadata": {},
          "execution_count": 21
        }
      ]
    },
    {
      "cell_type": "code",
      "source": [
        "k.plot()"
      ],
      "metadata": {
        "colab": {
          "base_uri": "https://localhost:8080/",
          "height": 295
        },
        "id": "PVdM2Thah-y_",
        "outputId": "8f4de342-1355-4b95-8ac1-8ece98977794"
      },
      "execution_count": null,
      "outputs": [
        {
          "output_type": "display_data",
          "data": {
            "text/plain": [
              "<Figure size 432x288 with 1 Axes>"
            ],
            "image/png": "[encoded data removed]"
          },
          "metadata": {
            "needs_background": "light"
          }
        }
      ]
    },
    {
      "cell_type": "markdown",
      "source": [
        "# BERT CLASSIFICATION"
      ],
      "metadata": {
        "id": "lWkfZ20t5q3X"
      }
    },
    {
      "cell_type": "markdown",
      "source": [
        "### CLEANING DATA"
      ],
      "metadata": {
        "id": "Lx8P7tRCsVB1"
      }
    },
    {
      "cell_type": "code",
      "source": [
        "from google.colab import drive\n",
        "drive.mount('/content/drive')\n",
        "\n",
        "import nltk\n",
        "import pandas as pd\n",
        "nltk.download('stopwords')\n",
        "df = pd.read_csv('/content/drive/MyDrive/NLP_csv/data.csv',\n",
        "            encoding = \"ISO-8859-1\")\n",
        "df = df[df['Lang'] == 'en']\n",
        "df = df.drop(['Lang', 'Date', 'Location','User'], axis = 1) #quitando columnas inecesarias\n",
        "\n",
        "from nltk.corpus import stopwords\n",
        "from nltk.tokenize import TweetTokenizer\n",
        "from nltk.stem import PorterStemmer\n",
        "import re\n",
        "\n",
        "\n",
        "def scrub_words(text):\n",
        "    # remove html markup\n",
        "    text=re.sub(\"(<.*?>)\",\"\",text)\n",
        "    \n",
        "    #remove non-ascii and digits\n",
        "    text=re.sub(\"(\\\\W|\\\\d)\",\" \",text)\n",
        "  \n",
        "    #remove whitespace\n",
        "    text=text.strip()\n",
        "    return text\n",
        "  \n",
        "#Noise removal, stop word removal, normalizing?\n",
        "def cleanString(s, special_chars = \"\\\":,.@|ðÿœžðÿâœœïÿœžÿºÿÿœžÿ\"):\n",
        "    for char in special_chars:\n",
        "        s = s.replace(char, \"\")\n",
        "    s = s.replace(\"\\n\", \"\")\n",
        "    s = scrub_words(s)\n",
        "    tokenizer = TweetTokenizer()\n",
        "    stop_words = set(stopwords.words('english'))\n",
        "    cleaned_words = [w for w in tokenizer.tokenize(s) if w not in stop_words]\n",
        "    return \" \".join(cleaned_words)\n",
        "\n",
        "def stemWords(sentence):\n",
        "    stemmer, tokenizer = PorterStemmer(), TweetTokenizer()\n",
        "    stemmed_words = [stemmer.stem(w) for w in tokenizer.tokenize(sentence)]\n",
        "    return \" \".join(stemmed_words)\n",
        "    \n",
        "def cleanFrame(frame):\n",
        "    frame['clean_tweet'] = frame.Tweet.apply(cleanString)\n",
        "\n",
        "def stemFrame(frame):\n",
        "    frame['stem_tweet'] = frame.clean_tweet.apply(stemWords)\n",
        "\n",
        "cleanFrame(df)\n",
        "df.head()"
      ],
      "metadata": {
        "colab": {
          "base_uri": "https://localhost:8080/",
          "height": 241
        },
        "id": "-dNyMiRG5Z0D",
        "outputId": "7f828036-9fad-485b-ba12-149925683eac"
      },
      "execution_count": null,
      "outputs": [
        {
          "output_type": "stream",
          "name": "stderr",
          "text": [
            "[nltk_data] Downloading package stopwords to /root/nltk_data...\n",
            "[nltk_data]   Package stopwords is already up-to-date!\n"
          ]
        },
        {
          "output_type": "execute_result",
          "data": {
            "text/plain": [
              "                                               Tweet  Label  \\\n",
              "0  I need paradigm on apple music now ðµâð«...      0   \n",
              "1  ð­hbo go\\n\\n1 month solo: â±300\\n1 month sh...      0   \n",
              "2  I still use my Apple Music just so I can liste...      0   \n",
              "3  Officially switched from Apple Music to Spotif...      0   \n",
              "4  Apple Music so damn irritating bitch where is ...      0   \n",
              "\n",
              "                                         clean_tweet  \n",
              "0      I need paradigm apple music µ itunes link let  \n",
              "1  hbo go month solo month shared months shared h...  \n",
              "2  I still use Apple Music I listen embarrassing ...  \n",
              "3  Officially switched Apple Music Spotify idek I...  \n",
              "4            Apple Music damn irritating bitch music  "
            ],
            "text/html": [
              "\n",
              "  <div id=\"df-5af07234-dc07-4a9b-a16c-69943e6b1840\">\n",
              "    <div class=\"colab-df-container\">\n",
              "      <div>\n",
              "<style scoped>\n",
              "    .dataframe tbody tr th:only-of-type {\n",
              "        vertical-align: middle;\n",
              "    }\n",
              "\n",
              "    .dataframe tbody tr th {\n",
              "        vertical-align: top;\n",
              "    }\n",
              "\n",
              "    .dataframe thead th {\n",
              "        text-align: right;\n",
              "    }\n",
              "</style>\n",
              "<table border=\"1\" class=\"dataframe\">\n",
              "  <thead>\n",
              "    <tr style=\"text-align: right;\">\n",
              "      <th></th>\n",
              "      <th>Tweet</th>\n",
              "      <th>Label</th>\n",
              "      <th>clean_tweet</th>\n",
              "    </tr>\n",
              "  </thead>\n",
              "  <tbody>\n",
              "    <tr>\n",
              "      <th>0</th>\n",
              "      <td>I need paradigm on apple music now ðµâð«...</td>\n",
              "      <td>0</td>\n",
              "      <td>I need paradigm apple music µ itunes link let</td>\n",
              "    </tr>\n",
              "    <tr>\n",
              "      <th>1</th>\n",
              "      <td>ð­hbo go\\n\\n1 month solo: â±300\\n1 month sh...</td>\n",
              "      <td>0</td>\n",
              "      <td>hbo go month solo month shared months shared h...</td>\n",
              "    </tr>\n",
              "    <tr>\n",
              "      <th>2</th>\n",
              "      <td>I still use my Apple Music just so I can liste...</td>\n",
              "      <td>0</td>\n",
              "      <td>I still use Apple Music I listen embarrassing ...</td>\n",
              "    </tr>\n",
              "    <tr>\n",
              "      <th>3</th>\n",
              "      <td>Officially switched from Apple Music to Spotif...</td>\n",
              "      <td>0</td>\n",
              "      <td>Officially switched Apple Music Spotify idek I...</td>\n",
              "    </tr>\n",
              "    <tr>\n",
              "      <th>4</th>\n",
              "      <td>Apple Music so damn irritating bitch where is ...</td>\n",
              "      <td>0</td>\n",
              "      <td>Apple Music damn irritating bitch music</td>\n",
              "    </tr>\n",
              "  </tbody>\n",
              "</table>\n",
              "</div>\n",
              "      <button class=\"colab-df-convert\" onclick=\"convertToInteractive('df-5af07234-dc07-4a9b-a16c-69943e6b1840')\"\n",
              "              title=\"Convert this dataframe to an interactive table.\"\n",
              "              style=\"display:none;\">\n",
              "        \n",
              "  <svg xmlns=\"http://www.w3.org/2000/svg\" height=\"24px\"viewBox=\"0 0 24 24\"\n",
              "       width=\"24px\">\n",
              "    <path d=\"M0 0h24v24H0V0z\" fill=\"none\"/>\n",
              "    <path d=\"M18.56 5.44l.94 2.06.94-2.06 2.06-.94-2.06-.94-.94-2.06-.94 2.06-2.06.94zm-11 1L8.5 8.5l.94-2.06 2.06-.94-2.06-.94L8.5 2.5l-.94 2.06-2.06.94zm10 10l.94 2.06.94-2.06 2.06-.94-2.06-.94-.94-2.06-.94 2.06-2.06.94z\"/><path d=\"M17.41 7.96l-1.37-1.37c-.4-.4-.92-.59-1.43-.59-.52 0-1.04.2-1.43.59L10.3 9.45l-7.72 7.72c-.78.78-.78 2.05 0 2.83L4 21.41c.39.39.9.59 1.41.59.51 0 1.02-.2 1.41-.59l7.78-7.78 2.81-2.81c.8-.78.8-2.07 0-2.86zM5.41 20L4 18.59l7.72-7.72 1.47 1.35L5.41 20z\"/>\n",
              "  </svg>\n",
              "      </button>\n",
              "      \n",
              "  <style>\n",
              "    .colab-df-container {\n",
              "      display:flex;\n",
              "      flex-wrap:wrap;\n",
              "      gap: 12px;\n",
              "    }\n",
              "\n",
              "    .colab-df-convert {\n",
              "      background-color: #E8F0FE;\n",
              "      border: none;\n",
              "      border-radius: 50%;\n",
              "      cursor: pointer;\n",
              "      display: none;\n",
              "      fill: #1967D2;\n",
              "      height: 32px;\n",
              "      padding: 0 0 0 0;\n",
              "      width: 32px;\n",
              "    }\n",
              "\n",
              "    .colab-df-convert:hover {\n",
              "      background-color: #E2EBFA;\n",
              "      box-shadow: 0px 1px 2px rgba(60, 64, 67, 0.3), 0px 1px 3px 1px rgba(60, 64, 67, 0.15);\n",
              "      fill: #174EA6;\n",
              "    }\n",
              "\n",
              "    [theme=dark] .colab-df-convert {\n",
              "      background-color: #3B4455;\n",
              "      fill: #D2E3FC;\n",
              "    }\n",
              "\n",
              "    [theme=dark] .colab-df-convert:hover {\n",
              "      background-color: #434B5C;\n",
              "      box-shadow: 0px 1px 3px 1px rgba(0, 0, 0, 0.15);\n",
              "      filter: drop-shadow(0px 1px 2px rgba(0, 0, 0, 0.3));\n",
              "      fill: #FFFFFF;\n",
              "    }\n",
              "  </style>\n",
              "\n",
              "      <script>\n",
              "        const buttonEl =\n",
              "          document.querySelector('#df-5af07234-dc07-4a9b-a16c-69943e6b1840 button.colab-df-convert');\n",
              "        buttonEl.style.display =\n",
              "          google.colab.kernel.accessAllowed ? 'block' : 'none';\n",
              "\n",
              "        async function convertToInteractive(key) {\n",
              "          const element = document.querySelector('#df-5af07234-dc07-4a9b-a16c-69943e6b1840');\n",
              "          const dataTable =\n",
              "            await google.colab.kernel.invokeFunction('convertToInteractive',\n",
              "                                                     [key], {});\n",
              "          if (!dataTable) return;\n",
              "\n",
              "          const docLinkHtml = 'Like what you see? Visit the ' +\n",
              "            '<a target=\"_blank\" href=https://colab.research.google.com/notebooks/data_table.ipynb>data table notebook</a>'\n",
              "            + ' to learn more about interactive tables.';\n",
              "          element.innerHTML = '';\n",
              "          dataTable['output_type'] = 'display_data';\n",
              "          await google.colab.output.renderOutput(dataTable, element);\n",
              "          const docLink = document.createElement('div');\n",
              "          docLink.innerHTML = docLinkHtml;\n",
              "          element.appendChild(docLink);\n",
              "        }\n",
              "      </script>\n",
              "    </div>\n",
              "  </div>\n",
              "  "
            ]
          },
          "metadata": {},
          "execution_count": 2
        }
      ]
    },
    {
      "cell_type": "markdown",
      "source": [
        "### Balancing Data"
      ],
      "metadata": {
        "id": "j3cZvUtbsfHD"
      }
    },
    {
      "cell_type": "code",
      "source": [
        "# WE NEED TO GET BALANCED THE PROPORTION OF TWEETS (Apple music / Spotify)\n",
        "df_1 = df[df['Label'] == 0][0:40000]\n",
        "df_2 = df[df['Label'] == 1][0:40000]\n",
        "df = pd.concat([df_1, df_2], axis=0)\n",
        "print(df[df['Label']==0].value_counts())\n",
        "print(df[df['Label']==1].value_counts())"
      ],
      "metadata": {
        "colab": {
          "base_uri": "https://localhost:8080/"
        },
        "id": "FlVpQVVh5uKI",
        "outputId": "33dad7a8-5dd1-4a54-a89b-bfe943f56289"
      },
      "execution_count": null,
      "outputs": [
        {
          "output_type": "stream",
          "name": "stdout",
          "text": [
            "Tweet                                                                                                                                                                                                 Label  clean_tweet                                                                                                                              \n",
            "[DAILY VOTE | 11/22 | #MAMAVOTE #mamamoo] Vote for Mamamoo on the MAMA website and listen to \"AYA\" on the Apple Music playlist provided by MAMA for at least 30 seconds!                              0      DAILY VOTE MAMAVOTE mamamoo Vote Mamamoo MAMA website listen AYA Apple Music playlist provided MAMA least seconds                            166\n",
            "[DAILY VOTE | 11/5| #MAMAVOTE | #mamamoo] Moomoos, please remember to vote for Mamamoo on the MAMA website and listen to \"AYA\" on the Apple Music playlist provided by mama for at least 30 seconds!  0      DAILY VOTE MAMAVOTE mamamoo Moomoos please remember vote Mamamoo MAMA website listen AYA Apple Music playlist provided mama least seconds     79\n",
            "â¥ Jual netflix spotify viu apple music youtube dll                                                                                                                                                  0      Jual netflix spotify viu apple music youtube dll                                                                                              53\n",
            "apple music ios 14 selalu ready harga under 30k per 3 bulan \\n\\nitunes apple music premium                                                                                                            0      apple music ios selalu ready harga k per bulan itunes apple music premium                                                                     50\n",
            "ðPackages Available Todayð\\n\\nSpotify â\\nYouTube â\\nTikTok â\\nTidal â\\nSoundcloud â\\nTwitterð«\\nInstagramð«\\nApple Musicð«\\n\\nDM or Order off the site to lock in a slot!ð   0      Packages Available Today Spotify YouTube TikTok Tidal Soundcloud Twitter Instagram Apple Music DM Order site lock slot                        31\n",
            "                                                                                                                                                                                                                                                                                                                                                         ... \n",
            "I need âproblematiqueâ on Apple Music right nowwww ðµâð«ð¤§                                                                                                                                0      I need problematique Apple Music right nowwww µ                                                                                                1\n",
            "I need â2 Could Play that Gameâ on Apple musicâ¦now                                                                                                                                              0      I need Could Play Game Apple music                                                                                                             1\n",
            "I need â500 horsesâ and âJust like meâ released and on Apple Music. Itâs been years!                                                                                                        0      I need horses Just like released Apple Music It years                                                                                          1\n",
            "I needa start downloading some of this music to listen to â¦ my apple is bullshit up here                                                                                                            0      I needa start downloading music listen apple bullshit                                                                                          1\n",
            "ð«£ð«£ sorry to say this but I need Apple Music to put âChi Chi Manâ by TOK in they library ð« ð«                                                                                             0      sorry say I need Apple Music put Chi Chi Man TOK library                                                                                       1\n",
            "Length: 38079, dtype: int64\n",
            "Tweet                                                                                                                                                                                                                                                                               Label  clean_tweet                                                                                                                                                                                                                     \n",
            "Spotify                                                                                                                                                                                                                                                                             1      Spotify                                                                                                                                                                                                                             84\n",
            "BICYCLE ON SPOTIFY                                                                                                                                                                                                                                                                  1      BICYCLE ON SPOTIFY                                                                                                                                                                                                                  44\n",
            "spotify wrapped when                                                                                                                                                                                                                                                                1      spotify wrapped                                                                                                                                                                                                                     30\n",
            "when is spotify wrapped                                                                                                                                                                                                                                                             1      spotify wrapped                                                                                                                                                                                                                     16\n",
            "when does spotify wrapped come out                                                                                                                                                                                                                                                  1      spotify wrapped come                                                                                                                                                                                                                13\n",
            "                                                                                                                                                                                                                                                                                                                                                                                                                                                                                                                               ..\n",
            "New Years is literally tomorrowâ¦ give us our Spotify wrapped !!                                                                                                                                                                                                                   1      New Years literally tomorrow give us Spotify wrapped                                                                                                                                                                                 1\n",
            "New Years resolution: donât listen to pentatonix on Spotify. Itâs been one of my most listened to since like 2020 ð­                                                                                                                                                          1      New Years resolution listen pentatonix Spotify It one listened since like                                                                                                                                                            1\n",
            "New episode OUT NOW... \\nI speak about The World Cup, Ronaldo and Gary Neville.\\n \\nListen on Spotify or Anchor                                                                                                                                                                     1      New episode OUT NOW I speak The World Cup Ronaldo Gary Neville Listen Spotify Anchor                                                                                                                                                 1\n",
            "New episode alert! ð¥°ð¥³ Hear @ChenQiufan, the incredible author of Waste Tide and the sci-fi author behind AI 2041, speak about the feedback loop between science fiction and tech innovation on Apple Podcasts, Spotify or wherever else you get your podcasts @LeverhulmeCFI  1      New episode alert ³ Hear ChenQiufan incredible author Waste Tide sci fi author behind AI speak feedback loop science fiction tech innovation Apple Podcasts Spotify wherever else get podcasts LeverhulmeCFI                         1\n",
            "ð«§PREMIUM ACCOUNTS \\n\\nAND\\n\\n UNLOCKING SERVICE \\n\\nAVAILABLE HERE!! \\n\\nLf looking for Netflix\\n Spotify Youtube Canva\\n Grammarly Quillbot Premium Accounts Solo Duo \\nShared Famhead Chegg\\n Coursehero Unlock Scribd Slideshare Bartebly \\npost question ouiy                1      PREMIUM ACCOUNTS AND UNLOCKING SERVICE AVAILABLE HERE Lf looking Netflix Spotify Youtube Canva Grammarly Quillbot Premium Accounts Solo Duo Shared Famhead Chegg Coursehero Unlock Scribd Slideshare Bartebly post question ouiy     1\n",
            "Length: 38445, dtype: int64\n"
          ]
        }
      ]
    },
    {
      "cell_type": "code",
      "source": [
        "# Lets check that both were megered\n",
        "df.drop(['Tweet'],axis=1)"
      ],
      "metadata": {
        "colab": {
          "base_uri": "https://localhost:8080/",
          "height": 424
        },
        "id": "FzGtu5Ks7wLM",
        "outputId": "189f000e-5642-466f-f711-c45007a8d9ee"
      },
      "execution_count": null,
      "outputs": [
        {
          "output_type": "execute_result",
          "data": {
            "text/plain": [
              "       Label                                        clean_tweet\n",
              "0          0      I need paradigm apple music µ itunes link let\n",
              "1          0  hbo go month solo month shared months shared h...\n",
              "2          0  I still use Apple Music I listen embarrassing ...\n",
              "3          0  Officially switched Apple Music Spotify idek I...\n",
              "4          0            Apple Music damn irritating bitch music\n",
              "...      ...                                                ...\n",
              "89688      1  Spotify legally allow Glee Cast eligible show ...\n",
              "89689      1  Doing Request A Bet top artist year Spotify Wr...\n",
              "89690      1  spotify wrapped gonna shit im stressed got lis...\n",
              "89691      1  I think top Artists spotify wrapped r gonna de...\n",
              "89692      1                        spotify festival thing help\n",
              "\n",
              "[80000 rows x 2 columns]"
            ],
            "text/html": [
              "\n",
              "  <div id=\"df-b316dc6f-028f-4714-b324-460cb7a4b9dd\">\n",
              "    <div class=\"colab-df-container\">\n",
              "      <div>\n",
              "<style scoped>\n",
              "    .dataframe tbody tr th:only-of-type {\n",
              "        vertical-align: middle;\n",
              "    }\n",
              "\n",
              "    .dataframe tbody tr th {\n",
              "        vertical-align: top;\n",
              "    }\n",
              "\n",
              "    .dataframe thead th {\n",
              "        text-align: right;\n",
              "    }\n",
              "</style>\n",
              "<table border=\"1\" class=\"dataframe\">\n",
              "  <thead>\n",
              "    <tr style=\"text-align: right;\">\n",
              "      <th></th>\n",
              "      <th>Label</th>\n",
              "      <th>clean_tweet</th>\n",
              "    </tr>\n",
              "  </thead>\n",
              "  <tbody>\n",
              "    <tr>\n",
              "      <th>0</th>\n",
              "      <td>0</td>\n",
              "      <td>I need paradigm apple music µ itunes link let</td>\n",
              "    </tr>\n",
              "    <tr>\n",
              "      <th>1</th>\n",
              "      <td>0</td>\n",
              "      <td>hbo go month solo month shared months shared h...</td>\n",
              "    </tr>\n",
              "    <tr>\n",
              "      <th>2</th>\n",
              "      <td>0</td>\n",
              "      <td>I still use Apple Music I listen embarrassing ...</td>\n",
              "    </tr>\n",
              "    <tr>\n",
              "      <th>3</th>\n",
              "      <td>0</td>\n",
              "      <td>Officially switched Apple Music Spotify idek I...</td>\n",
              "    </tr>\n",
              "    <tr>\n",
              "      <th>4</th>\n",
              "      <td>0</td>\n",
              "      <td>Apple Music damn irritating bitch music</td>\n",
              "    </tr>\n",
              "    <tr>\n",
              "      <th>...</th>\n",
              "      <td>...</td>\n",
              "      <td>...</td>\n",
              "    </tr>\n",
              "    <tr>\n",
              "      <th>89688</th>\n",
              "      <td>1</td>\n",
              "      <td>Spotify legally allow Glee Cast eligible show ...</td>\n",
              "    </tr>\n",
              "    <tr>\n",
              "      <th>89689</th>\n",
              "      <td>1</td>\n",
              "      <td>Doing Request A Bet top artist year Spotify Wr...</td>\n",
              "    </tr>\n",
              "    <tr>\n",
              "      <th>89690</th>\n",
              "      <td>1</td>\n",
              "      <td>spotify wrapped gonna shit im stressed got lis...</td>\n",
              "    </tr>\n",
              "    <tr>\n",
              "      <th>89691</th>\n",
              "      <td>1</td>\n",
              "      <td>I think top Artists spotify wrapped r gonna de...</td>\n",
              "    </tr>\n",
              "    <tr>\n",
              "      <th>89692</th>\n",
              "      <td>1</td>\n",
              "      <td>spotify festival thing help</td>\n",
              "    </tr>\n",
              "  </tbody>\n",
              "</table>\n",
              "<p>80000 rows × 2 columns</p>\n",
              "</div>\n",
              "      <button class=\"colab-df-convert\" onclick=\"convertToInteractive('df-b316dc6f-028f-4714-b324-460cb7a4b9dd')\"\n",
              "              title=\"Convert this dataframe to an interactive table.\"\n",
              "              style=\"display:none;\">\n",
              "        \n",
              "  <svg xmlns=\"http://www.w3.org/2000/svg\" height=\"24px\"viewBox=\"0 0 24 24\"\n",
              "       width=\"24px\">\n",
              "    <path d=\"M0 0h24v24H0V0z\" fill=\"none\"/>\n",
              "    <path d=\"M18.56 5.44l.94 2.06.94-2.06 2.06-.94-2.06-.94-.94-2.06-.94 2.06-2.06.94zm-11 1L8.5 8.5l.94-2.06 2.06-.94-2.06-.94L8.5 2.5l-.94 2.06-2.06.94zm10 10l.94 2.06.94-2.06 2.06-.94-2.06-.94-.94-2.06-.94 2.06-2.06.94z\"/><path d=\"M17.41 7.96l-1.37-1.37c-.4-.4-.92-.59-1.43-.59-.52 0-1.04.2-1.43.59L10.3 9.45l-7.72 7.72c-.78.78-.78 2.05 0 2.83L4 21.41c.39.39.9.59 1.41.59.51 0 1.02-.2 1.41-.59l7.78-7.78 2.81-2.81c.8-.78.8-2.07 0-2.86zM5.41 20L4 18.59l7.72-7.72 1.47 1.35L5.41 20z\"/>\n",
              "  </svg>\n",
              "      </button>\n",
              "      \n",
              "  <style>\n",
              "    .colab-df-container {\n",
              "      display:flex;\n",
              "      flex-wrap:wrap;\n",
              "      gap: 12px;\n",
              "    }\n",
              "\n",
              "    .colab-df-convert {\n",
              "      background-color: #E8F0FE;\n",
              "      border: none;\n",
              "      border-radius: 50%;\n",
              "      cursor: pointer;\n",
              "      display: none;\n",
              "      fill: #1967D2;\n",
              "      height: 32px;\n",
              "      padding: 0 0 0 0;\n",
              "      width: 32px;\n",
              "    }\n",
              "\n",
              "    .colab-df-convert:hover {\n",
              "      background-color: #E2EBFA;\n",
              "      box-shadow: 0px 1px 2px rgba(60, 64, 67, 0.3), 0px 1px 3px 1px rgba(60, 64, 67, 0.15);\n",
              "      fill: #174EA6;\n",
              "    }\n",
              "\n",
              "    [theme=dark] .colab-df-convert {\n",
              "      background-color: #3B4455;\n",
              "      fill: #D2E3FC;\n",
              "    }\n",
              "\n",
              "    [theme=dark] .colab-df-convert:hover {\n",
              "      background-color: #434B5C;\n",
              "      box-shadow: 0px 1px 3px 1px rgba(0, 0, 0, 0.15);\n",
              "      filter: drop-shadow(0px 1px 2px rgba(0, 0, 0, 0.3));\n",
              "      fill: #FFFFFF;\n",
              "    }\n",
              "  </style>\n",
              "\n",
              "      <script>\n",
              "        const buttonEl =\n",
              "          document.querySelector('#df-b316dc6f-028f-4714-b324-460cb7a4b9dd button.colab-df-convert');\n",
              "        buttonEl.style.display =\n",
              "          google.colab.kernel.accessAllowed ? 'block' : 'none';\n",
              "\n",
              "        async function convertToInteractive(key) {\n",
              "          const element = document.querySelector('#df-b316dc6f-028f-4714-b324-460cb7a4b9dd');\n",
              "          const dataTable =\n",
              "            await google.colab.kernel.invokeFunction('convertToInteractive',\n",
              "                                                     [key], {});\n",
              "          if (!dataTable) return;\n",
              "\n",
              "          const docLinkHtml = 'Like what you see? Visit the ' +\n",
              "            '<a target=\"_blank\" href=https://colab.research.google.com/notebooks/data_table.ipynb>data table notebook</a>'\n",
              "            + ' to learn more about interactive tables.';\n",
              "          element.innerHTML = '';\n",
              "          dataTable['output_type'] = 'display_data';\n",
              "          await google.colab.output.renderOutput(dataTable, element);\n",
              "          const docLink = document.createElement('div');\n",
              "          docLink.innerHTML = docLinkHtml;\n",
              "          element.appendChild(docLink);\n",
              "        }\n",
              "      </script>\n",
              "    </div>\n",
              "  </div>\n",
              "  "
            ]
          },
          "metadata": {},
          "execution_count": 4
        }
      ]
    },
    {
      "cell_type": "code",
      "source": [
        "#LETS SPLIT OUR DATA WITH sklearn\n",
        "from sklearn.model_selection import train_test_split\n",
        "X_train, X_test, y_train, y_test = train_test_split(df['clean_tweet'],df['Label'], stratify=df['Label'])"
      ],
      "metadata": {
        "id": "aq49MS2N8QM4"
      },
      "execution_count": null,
      "outputs": []
    },
    {
      "cell_type": "markdown",
      "source": [
        "#Processor and BERT encoder"
      ],
      "metadata": {
        "id": "Nnq9kTpv98D8"
      }
    },
    {
      "cell_type": "code",
      "source": [
        "import tensorflow as tf\n",
        "import tensorflow_hub as hub\n",
        "!pip install tensorflow-text\n",
        "import tensorflow_text as text"
      ],
      "metadata": {
        "colab": {
          "base_uri": "https://localhost:8080/"
        },
        "id": "CoxiRewn93ih",
        "outputId": "97c7a087-2d0b-495f-d77a-c8fe6f344af9"
      },
      "execution_count": null,
      "outputs": [
        {
          "output_type": "stream",
          "name": "stdout",
          "text": [
            "Looking in indexes: https://pypi.org/simple, https://us-python.pkg.dev/colab-wheels/public/simple/\n",
            "Requirement already satisfied: tensorflow-text in /usr/local/lib/python3.8/dist-packages (2.11.0)\n",
            "Requirement already satisfied: tensorflow-hub>=0.8.0 in /usr/local/lib/python3.8/dist-packages (from tensorflow-text) (0.12.0)\n",
            "Requirement already satisfied: tensorflow<2.12,>=2.11.0 in /usr/local/lib/python3.8/dist-packages (from tensorflow-text) (2.11.0)\n",
            "Requirement already satisfied: tensorboard<2.12,>=2.11 in /usr/local/lib/python3.8/dist-packages (from tensorflow<2.12,>=2.11.0->tensorflow-text) (2.11.0)\n",
            "Requirement already satisfied: setuptools in /usr/local/lib/python3.8/dist-packages (from tensorflow<2.12,>=2.11.0->tensorflow-text) (57.4.0)\n",
            "Requirement already satisfied: keras<2.12,>=2.11.0 in /usr/local/lib/python3.8/dist-packages (from tensorflow<2.12,>=2.11.0->tensorflow-text) (2.11.0)\n",
            "Requirement already satisfied: google-pasta>=0.1.1 in /usr/local/lib/python3.8/dist-packages (from tensorflow<2.12,>=2.11.0->tensorflow-text) (0.2.0)\n",
            "Requirement already satisfied: gast<=0.4.0,>=0.2.1 in /usr/local/lib/python3.8/dist-packages (from tensorflow<2.12,>=2.11.0->tensorflow-text) (0.4.0)\n",
            "Requirement already satisfied: tensorflow-io-gcs-filesystem>=0.23.1 in /usr/local/lib/python3.8/dist-packages (from tensorflow<2.12,>=2.11.0->tensorflow-text) (0.28.0)\n",
            "Requirement already satisfied: numpy>=1.20 in /usr/local/lib/python3.8/dist-packages (from tensorflow<2.12,>=2.11.0->tensorflow-text) (1.21.6)\n",
            "Requirement already satisfied: tensorflow-estimator<2.12,>=2.11.0 in /usr/local/lib/python3.8/dist-packages (from tensorflow<2.12,>=2.11.0->tensorflow-text) (2.11.0)\n",
            "Requirement already satisfied: grpcio<2.0,>=1.24.3 in /usr/local/lib/python3.8/dist-packages (from tensorflow<2.12,>=2.11.0->tensorflow-text) (1.50.0)\n",
            "Requirement already satisfied: opt-einsum>=2.3.2 in /usr/local/lib/python3.8/dist-packages (from tensorflow<2.12,>=2.11.0->tensorflow-text) (3.3.0)\n",
            "Requirement already satisfied: six>=1.12.0 in /usr/local/lib/python3.8/dist-packages (from tensorflow<2.12,>=2.11.0->tensorflow-text) (1.15.0)\n",
            "Requirement already satisfied: protobuf<3.20,>=3.9.2 in /usr/local/lib/python3.8/dist-packages (from tensorflow<2.12,>=2.11.0->tensorflow-text) (3.19.6)\n",
            "Requirement already satisfied: h5py>=2.9.0 in /usr/local/lib/python3.8/dist-packages (from tensorflow<2.12,>=2.11.0->tensorflow-text) (3.1.0)\n",
            "Requirement already satisfied: typing-extensions>=3.6.6 in /usr/local/lib/python3.8/dist-packages (from tensorflow<2.12,>=2.11.0->tensorflow-text) (4.1.1)\n",
            "Requirement already satisfied: libclang>=13.0.0 in /usr/local/lib/python3.8/dist-packages (from tensorflow<2.12,>=2.11.0->tensorflow-text) (14.0.6)\n",
            "Requirement already satisfied: astunparse>=1.6.0 in /usr/local/lib/python3.8/dist-packages (from tensorflow<2.12,>=2.11.0->tensorflow-text) (1.6.3)\n",
            "Requirement already satisfied: termcolor>=1.1.0 in /usr/local/lib/python3.8/dist-packages (from tensorflow<2.12,>=2.11.0->tensorflow-text) (2.1.1)\n",
            "Requirement already satisfied: wrapt>=1.11.0 in /usr/local/lib/python3.8/dist-packages (from tensorflow<2.12,>=2.11.0->tensorflow-text) (1.14.1)\n",
            "Requirement already satisfied: packaging in /usr/local/lib/python3.8/dist-packages (from tensorflow<2.12,>=2.11.0->tensorflow-text) (21.3)\n",
            "Requirement already satisfied: absl-py>=1.0.0 in /usr/local/lib/python3.8/dist-packages (from tensorflow<2.12,>=2.11.0->tensorflow-text) (1.3.0)\n",
            "Requirement already satisfied: flatbuffers>=2.0 in /usr/local/lib/python3.8/dist-packages (from tensorflow<2.12,>=2.11.0->tensorflow-text) (22.11.23)\n",
            "Requirement already satisfied: wheel<1.0,>=0.23.0 in /usr/local/lib/python3.8/dist-packages (from astunparse>=1.6.0->tensorflow<2.12,>=2.11.0->tensorflow-text) (0.38.4)\n",
            "Requirement already satisfied: tensorboard-plugin-wit>=1.6.0 in /usr/local/lib/python3.8/dist-packages (from tensorboard<2.12,>=2.11->tensorflow<2.12,>=2.11.0->tensorflow-text) (1.8.1)\n",
            "Requirement already satisfied: werkzeug>=1.0.1 in /usr/local/lib/python3.8/dist-packages (from tensorboard<2.12,>=2.11->tensorflow<2.12,>=2.11.0->tensorflow-text) (1.0.1)\n",
            "Requirement already satisfied: google-auth<3,>=1.6.3 in /usr/local/lib/python3.8/dist-packages (from tensorboard<2.12,>=2.11->tensorflow<2.12,>=2.11.0->tensorflow-text) (2.14.1)\n",
            "Requirement already satisfied: requests<3,>=2.21.0 in /usr/local/lib/python3.8/dist-packages (from tensorboard<2.12,>=2.11->tensorflow<2.12,>=2.11.0->tensorflow-text) (2.23.0)\n",
            "Requirement already satisfied: google-auth-oauthlib<0.5,>=0.4.1 in /usr/local/lib/python3.8/dist-packages (from tensorboard<2.12,>=2.11->tensorflow<2.12,>=2.11.0->tensorflow-text) (0.4.6)\n",
            "Requirement already satisfied: tensorboard-data-server<0.7.0,>=0.6.0 in /usr/local/lib/python3.8/dist-packages (from tensorboard<2.12,>=2.11->tensorflow<2.12,>=2.11.0->tensorflow-text) (0.6.1)\n",
            "Requirement already satisfied: markdown>=2.6.8 in /usr/local/lib/python3.8/dist-packages (from tensorboard<2.12,>=2.11->tensorflow<2.12,>=2.11.0->tensorflow-text) (3.4.1)\n",
            "Requirement already satisfied: cachetools<6.0,>=2.0.0 in /usr/local/lib/python3.8/dist-packages (from google-auth<3,>=1.6.3->tensorboard<2.12,>=2.11->tensorflow<2.12,>=2.11.0->tensorflow-text) (5.2.0)\n",
            "Requirement already satisfied: rsa<5,>=3.1.4 in /usr/local/lib/python3.8/dist-packages (from google-auth<3,>=1.6.3->tensorboard<2.12,>=2.11->tensorflow<2.12,>=2.11.0->tensorflow-text) (4.9)\n",
            "Requirement already satisfied: pyasn1-modules>=0.2.1 in /usr/local/lib/python3.8/dist-packages (from google-auth<3,>=1.6.3->tensorboard<2.12,>=2.11->tensorflow<2.12,>=2.11.0->tensorflow-text) (0.2.8)\n",
            "Requirement already satisfied: requests-oauthlib>=0.7.0 in /usr/local/lib/python3.8/dist-packages (from google-auth-oauthlib<0.5,>=0.4.1->tensorboard<2.12,>=2.11->tensorflow<2.12,>=2.11.0->tensorflow-text) (1.3.1)\n",
            "Requirement already satisfied: importlib-metadata>=4.4 in /usr/local/lib/python3.8/dist-packages (from markdown>=2.6.8->tensorboard<2.12,>=2.11->tensorflow<2.12,>=2.11.0->tensorflow-text) (4.13.0)\n",
            "Requirement already satisfied: zipp>=0.5 in /usr/local/lib/python3.8/dist-packages (from importlib-metadata>=4.4->markdown>=2.6.8->tensorboard<2.12,>=2.11->tensorflow<2.12,>=2.11.0->tensorflow-text) (3.10.0)\n",
            "Requirement already satisfied: pyasn1<0.5.0,>=0.4.6 in /usr/local/lib/python3.8/dist-packages (from pyasn1-modules>=0.2.1->google-auth<3,>=1.6.3->tensorboard<2.12,>=2.11->tensorflow<2.12,>=2.11.0->tensorflow-text) (0.4.8)\n",
            "Requirement already satisfied: chardet<4,>=3.0.2 in /usr/local/lib/python3.8/dist-packages (from requests<3,>=2.21.0->tensorboard<2.12,>=2.11->tensorflow<2.12,>=2.11.0->tensorflow-text) (3.0.4)\n",
            "Requirement already satisfied: idna<3,>=2.5 in /usr/local/lib/python3.8/dist-packages (from requests<3,>=2.21.0->tensorboard<2.12,>=2.11->tensorflow<2.12,>=2.11.0->tensorflow-text) (2.10)\n",
            "Requirement already satisfied: certifi>=2017.4.17 in /usr/local/lib/python3.8/dist-packages (from requests<3,>=2.21.0->tensorboard<2.12,>=2.11->tensorflow<2.12,>=2.11.0->tensorflow-text) (2022.9.24)\n",
            "Requirement already satisfied: urllib3!=1.25.0,!=1.25.1,<1.26,>=1.21.1 in /usr/local/lib/python3.8/dist-packages (from requests<3,>=2.21.0->tensorboard<2.12,>=2.11->tensorflow<2.12,>=2.11.0->tensorflow-text) (1.24.3)\n",
            "Requirement already satisfied: oauthlib>=3.0.0 in /usr/local/lib/python3.8/dist-packages (from requests-oauthlib>=0.7.0->google-auth-oauthlib<0.5,>=0.4.1->tensorboard<2.12,>=2.11->tensorflow<2.12,>=2.11.0->tensorflow-text) (3.2.2)\n",
            "Requirement already satisfied: pyparsing!=3.0.5,>=2.0.2 in /usr/local/lib/python3.8/dist-packages (from packaging->tensorflow<2.12,>=2.11.0->tensorflow-text) (3.0.9)\n"
          ]
        }
      ]
    },
    {
      "cell_type": "code",
      "source": [
        "# LETS GIVE ALL THE POWER FOR COMPUTATIONAL PROBLEM with these special layers\n",
        "bert_preprocess = hub.KerasLayer(\"https://tfhub.dev/tensorflow/bert_en_uncased_preprocess/3\")\n",
        "bert_encoder = hub.KerasLayer(\"https://tfhub.dev/tensorflow/bert_en_uncased_L-12_H-768_A-12/4\")"
      ],
      "metadata": {
        "id": "-RqggjAp9-b1",
        "colab": {
          "base_uri": "https://localhost:8080/"
        },
        "outputId": "5c47c583-04a5-4c64-ccbd-bf7e385a5abf"
      },
      "execution_count": null,
      "outputs": [
        {
          "output_type": "stream",
          "name": "stderr",
          "text": [
            "WARNING:tensorflow:Please fix your imports. Module tensorflow.python.training.tracking.data_structures has been moved to tensorflow.python.trackable.data_structures. The old module will be deleted in version 2.11.\n"
          ]
        }
      ]
    },
    {
      "cell_type": "code",
      "source": [
        "#LETS START THE PROCESSING MODEL based on what tensorflow documentation says.\n",
        "text_input = tf.keras.layers.Input(shape=(), dtype=tf.string, name='text-layer')\n",
        "preprocessed_text = bert_preprocess(text_input)\n",
        "outputs = bert_encoder(preprocessed_text)\n",
        "d_layer = tf.keras.layers.Dropout(0.1, name=\"dropout-layer\")(outputs['pooled_output'])\n",
        "d_layer = tf.keras.layers.Dense(1, activation='sigmoid', name=\"output\")(d_layer)\n",
        "model = tf.keras.Model(inputs=[text_input], outputs = [d_layer])"
      ],
      "metadata": {
        "colab": {
          "base_uri": "https://localhost:8080/"
        },
        "id": "NT2szowJ--gK",
        "outputId": "c445b3f8-8714-48c8-9e35-9fe52d0343cf"
      },
      "execution_count": null,
      "outputs": [
        {
          "output_type": "stream",
          "name": "stderr",
          "text": [
            "WARNING:tensorflow:From /usr/local/lib/python3.8/dist-packages/tensorflow/python/autograph/pyct/static_analysis/liveness.py:83: Analyzer.lamba_check (from tensorflow.python.autograph.pyct.static_analysis.liveness) is deprecated and will be removed after 2023-09-23.\n",
            "Instructions for updating:\n",
            "Lambda fuctions will be no more assumed to be used in the statement where they are used, or at least in the same block. https://github.com/tensorflow/tensorflow/issues/56089\n"
          ]
        }
      ]
    },
    {
      "cell_type": "code",
      "source": [
        "#THIS IS THE MODEL GENERATED\n",
        "model.summary()"
      ],
      "metadata": {
        "colab": {
          "base_uri": "https://localhost:8080/"
        },
        "id": "NC6aUAjK_SXe",
        "outputId": "b108c954-3a77-4287-95ac-3b7e0c0ec695"
      },
      "execution_count": null,
      "outputs": [
        {
          "output_type": "stream",
          "name": "stdout",
          "text": [
            "Model: \"model\"\n",
            "__________________________________________________________________________________________________\n",
            " Layer (type)                   Output Shape         Param #     Connected to                     \n",
            "==================================================================================================\n",
            " text-layer (InputLayer)        [(None,)]            0           []                               \n",
            "                                                                                                  \n",
            " keras_layer (KerasLayer)       {'input_word_ids':   0           ['text-layer[0][0]']             \n",
            "                                (None, 128),                                                      \n",
            "                                 'input_type_ids':                                                \n",
            "                                (None, 128),                                                      \n",
            "                                 'input_mask': (Non                                               \n",
            "                                e, 128)}                                                          \n",
            "                                                                                                  \n",
            " keras_layer_1 (KerasLayer)     {'encoder_outputs':  109482241   ['keras_layer[0][0]',            \n",
            "                                 [(None, 128, 768),               'keras_layer[0][1]',            \n",
            "                                 (None, 128, 768),                'keras_layer[0][2]']            \n",
            "                                 (None, 128, 768),                                                \n",
            "                                 (None, 128, 768),                                                \n",
            "                                 (None, 128, 768),                                                \n",
            "                                 (None, 128, 768),                                                \n",
            "                                 (None, 128, 768),                                                \n",
            "                                 (None, 128, 768),                                                \n",
            "                                 (None, 128, 768),                                                \n",
            "                                 (None, 128, 768),                                                \n",
            "                                 (None, 128, 768),                                                \n",
            "                                 (None, 128, 768)],                                               \n",
            "                                 'sequence_output':                                               \n",
            "                                 (None, 128, 768),                                                \n",
            "                                 'pooled_output': (                                               \n",
            "                                None, 768),                                                       \n",
            "                                 'default': (None,                                                \n",
            "                                768)}                                                             \n",
            "                                                                                                  \n",
            " dropout-layer (Dropout)        (None, 768)          0           ['keras_layer_1[0][13]']         \n",
            "                                                                                                  \n",
            " output (Dense)                 (None, 1)            769         ['dropout-layer[0][0]']          \n",
            "                                                                                                  \n",
            "==================================================================================================\n",
            "Total params: 109,483,010\n",
            "Trainable params: 769\n",
            "Non-trainable params: 109,482,241\n",
            "__________________________________________________________________________________________________\n"
          ]
        }
      ]
    },
    {
      "cell_type": "code",
      "source": [
        "#DESING OF OUR MODEL\n",
        "m= [\n",
        "      tf.keras.metrics.BinaryAccuracy(name='accuracy'),\n",
        "      tf.keras.metrics.Precision(name='precision'),\n",
        "      tf.keras.metrics.Recall(name='recall')\n",
        "]\n",
        "model.compile(optimizer='adam', loss='binary_crossentropy', metrics=m)"
      ],
      "metadata": {
        "id": "99g0qH5sAMmO"
      },
      "execution_count": null,
      "outputs": []
    },
    {
      "cell_type": "code",
      "source": [
        "# LETS TRAIN OUR MODEL WITH 10 EPOCHS\n",
        "model.fit(X_train, y_train, epochs=10)"
      ],
      "metadata": {
        "id": "6VZzhOCeAPuf",
        "outputId": "a012d383-56a8-4973-e955-d6eddf6b2cc9",
        "colab": {
          "base_uri": "https://localhost:8080/"
        }
      },
      "execution_count": null,
      "outputs": [
        {
          "output_type": "stream",
          "name": "stdout",
          "text": [
            "Epoch 1/10\n",
            "1875/1875 [==============================] - 633s 332ms/step - loss: 0.4981 - accuracy: 0.7689 - precision: 0.7641 - recall: 0.7779\n",
            "Epoch 2/10\n",
            "1875/1875 [==============================] - 634s 338ms/step - loss: 0.3989 - accuracy: 0.8292 - precision: 0.8239 - recall: 0.8376\n",
            "Epoch 3/10\n",
            "1875/1875 [==============================] - 628s 335ms/step - loss: 0.3726 - accuracy: 0.8406 - precision: 0.8367 - recall: 0.8464\n",
            "Epoch 4/10\n",
            "1875/1875 [==============================] - 627s 334ms/step - loss: 0.3560 - accuracy: 0.8487 - precision: 0.8451 - recall: 0.8540\n",
            "Epoch 5/10\n",
            "1875/1875 [==============================] - 625s 334ms/step - loss: 0.3461 - accuracy: 0.8544 - precision: 0.8512 - recall: 0.8590\n",
            "Epoch 6/10\n",
            "1875/1875 [==============================] - 633s 338ms/step - loss: 0.3421 - accuracy: 0.8554 - precision: 0.8517 - recall: 0.8607\n",
            "Epoch 7/10\n",
            "1875/1875 [==============================] - 635s 338ms/step - loss: 0.3370 - accuracy: 0.8573 - precision: 0.8544 - recall: 0.8614\n",
            "Epoch 8/10\n",
            "1875/1875 [==============================] - 627s 334ms/step - loss: 0.3345 - accuracy: 0.8593 - precision: 0.8557 - recall: 0.8644\n",
            "Epoch 9/10\n",
            "1875/1875 [==============================] - 625s 334ms/step - loss: 0.3324 - accuracy: 0.8601 - precision: 0.8565 - recall: 0.8650\n",
            "Epoch 10/10\n",
            "1875/1875 [==============================] - 625s 333ms/step - loss: 0.3298 - accuracy: 0.8611 - precision: 0.8569 - recall: 0.8669\n"
          ]
        },
        {
          "output_type": "execute_result",
          "data": {
            "text/plain": [
              "<keras.callbacks.History at 0x7fa4b3e71550>"
            ]
          },
          "metadata": {},
          "execution_count": 11
        }
      ]
    },
    {
      "cell_type": "code",
      "source": [
        "model.evaluate(X_test, y_test)"
      ],
      "metadata": {
        "id": "3pZ-SCVWAS-m",
        "colab": {
          "base_uri": "https://localhost:8080/"
        },
        "outputId": "48779310-082a-46c4-c01c-27e380464484"
      },
      "execution_count": null,
      "outputs": [
        {
          "output_type": "stream",
          "name": "stdout",
          "text": [
            "625/625 [==============================] - 211s 333ms/step - loss: 0.2775 - accuracy: 0.8934 - precision: 0.9189 - recall: 0.8628\n"
          ]
        },
        {
          "output_type": "execute_result",
          "data": {
            "text/plain": [
              "[0.27747365832328796,\n",
              " 0.8933500051498413,\n",
              " 0.918947696685791,\n",
              " 0.8628000020980835]"
            ]
          },
          "metadata": {},
          "execution_count": 12
        }
      ]
    },
    {
      "cell_type": "code",
      "source": [
        "import numpy as np\n",
        "y_predicted = model.predict(X_test)\n",
        "y_predicted = y_predicted.flatten()\n",
        "y_predicted = np.where(y_predicted > 0.5, 1, 0)\n",
        "from sklearn.metrics import confusion_matrix, classification_report\n",
        "matrix = confusion_matrix(y_test, y_predicted)\n",
        "matrix"
      ],
      "metadata": {
        "colab": {
          "base_uri": "https://localhost:8080/"
        },
        "id": "Dt5hj4TAHZ73",
        "outputId": "680b0140-9626-4236-8ba2-b5d07487f207"
      },
      "execution_count": null,
      "outputs": [
        {
          "output_type": "stream",
          "name": "stdout",
          "text": [
            "625/625 [==============================] - 206s 326ms/step\n"
          ]
        },
        {
          "output_type": "execute_result",
          "data": {
            "text/plain": [
              "array([[9239,  761],\n",
              "       [1372, 8628]])"
            ]
          },
          "metadata": {},
          "execution_count": 13
        }
      ]
    },
    {
      "cell_type": "code",
      "source": [
        "print(classification_report(y_test, y_predicted))"
      ],
      "metadata": {
        "colab": {
          "base_uri": "https://localhost:8080/"
        },
        "id": "ypEOUyKNIi_2",
        "outputId": "185cc70d-5916-477d-d9ef-7bc09f990bb1"
      },
      "execution_count": null,
      "outputs": [
        {
          "output_type": "stream",
          "name": "stdout",
          "text": [
            "              precision    recall  f1-score   support\n",
            "\n",
            "           0       0.87      0.92      0.90     10000\n",
            "           1       0.92      0.86      0.89     10000\n",
            "\n",
            "    accuracy                           0.89     20000\n",
            "   macro avg       0.89      0.89      0.89     20000\n",
            "weighted avg       0.89      0.89      0.89     20000\n",
            "\n"
          ]
        }
      ]
    },
    {
      "cell_type": "code",
      "source": [
        "X_test"
      ],
      "metadata": {
        "colab": {
          "base_uri": "https://localhost:8080/"
        },
        "id": "LrlESMWGJqro",
        "outputId": "c6e35c2e-d0ef-4f80-e207-464d79990178"
      },
      "execution_count": null,
      "outputs": [
        {
          "output_type": "execute_result",
          "data": {
            "text/plain": [
              "50679      If I shackles Drake Spotify wrapped year I know\n",
              "4386                             Apple Music still supreme\n",
              "77344               Just blocked loona Spotify streams BBC\n",
              "31090    So girl shared sex playlist Apple Music babyyy...\n",
              "84389      u guys think ur number one song spotify wrapped\n",
              "                               ...                        \n",
              "59609                I NEED BETTER TOGETHER ON SPOTIFY NOW\n",
              "14960                                    Apple Music buggy\n",
              "56802    Fatal Love almost M Get final streams Spotify ...\n",
              "85779    Vou fingir surpresa quando equal sign estiver ...\n",
              "38980                    I know Apple Music user I see one\n",
              "Name: clean_tweet, Length: 20000, dtype: object"
            ]
          },
          "metadata": {},
          "execution_count": 15
        }
      ]
    },
    {
      "cell_type": "code",
      "source": [
        "y_predicted"
      ],
      "metadata": {
        "colab": {
          "base_uri": "https://localhost:8080/"
        },
        "id": "11YweKX-J2Kz",
        "outputId": "935e6ba7-8b04-48a8-9ee2-a75a96b27685"
      },
      "execution_count": null,
      "outputs": [
        {
          "output_type": "execute_result",
          "data": {
            "text/plain": [
              "array([1, 0, 0, ..., 1, 1, 0])"
            ]
          },
          "metadata": {},
          "execution_count": 16
        }
      ]
    },
    {
      "cell_type": "code",
      "source": [
        "test0 = {'tweet':X_test, 'score': y_predicted}\n",
        "test1 = pd.DataFrame(data=test0)\n",
        "test1.head(10)"
      ],
      "metadata": {
        "colab": {
          "base_uri": "https://localhost:8080/",
          "height": 363
        },
        "id": "RPn4fY3rKBYd",
        "outputId": "8fedced6-9935-49e2-907a-2d025d322e1a"
      },
      "execution_count": null,
      "outputs": [
        {
          "output_type": "execute_result",
          "data": {
            "text/plain": [
              "                                                   tweet  score\n",
              "50679    If I shackles Drake Spotify wrapped year I know      1\n",
              "4386                           Apple Music still supreme      0\n",
              "77344             Just blocked loona Spotify streams BBC      0\n",
              "31090  So girl shared sex playlist Apple Music babyyy...      0\n",
              "84389    u guys think ur number one song spotify wrapped      1\n",
              "52290  wanna know someone without basic music taste l...      1\n",
              "87853  Now air Louis Tomlinson amp Bebe Rexha With Di...      0\n",
              "694    Apple Music replay trash compared Spotify lol ...      0\n",
              "73196   Where Spotify wrapped like I finna SPAZZ Spotify      1\n",
              "16532  ine even gotta look apple music summary cause ...      0"
            ],
            "text/html": [
              "\n",
              "  <div id=\"df-837c44ee-531b-4f1d-91a2-eac63c62d856\">\n",
              "    <div class=\"colab-df-container\">\n",
              "      <div>\n",
              "<style scoped>\n",
              "    .dataframe tbody tr th:only-of-type {\n",
              "        vertical-align: middle;\n",
              "    }\n",
              "\n",
              "    .dataframe tbody tr th {\n",
              "        vertical-align: top;\n",
              "    }\n",
              "\n",
              "    .dataframe thead th {\n",
              "        text-align: right;\n",
              "    }\n",
              "</style>\n",
              "<table border=\"1\" class=\"dataframe\">\n",
              "  <thead>\n",
              "    <tr style=\"text-align: right;\">\n",
              "      <th></th>\n",
              "      <th>tweet</th>\n",
              "      <th>score</th>\n",
              "    </tr>\n",
              "  </thead>\n",
              "  <tbody>\n",
              "    <tr>\n",
              "      <th>50679</th>\n",
              "      <td>If I shackles Drake Spotify wrapped year I know</td>\n",
              "      <td>1</td>\n",
              "    </tr>\n",
              "    <tr>\n",
              "      <th>4386</th>\n",
              "      <td>Apple Music still supreme</td>\n",
              "      <td>0</td>\n",
              "    </tr>\n",
              "    <tr>\n",
              "      <th>77344</th>\n",
              "      <td>Just blocked loona Spotify streams BBC</td>\n",
              "      <td>0</td>\n",
              "    </tr>\n",
              "    <tr>\n",
              "      <th>31090</th>\n",
              "      <td>So girl shared sex playlist Apple Music babyyy...</td>\n",
              "      <td>0</td>\n",
              "    </tr>\n",
              "    <tr>\n",
              "      <th>84389</th>\n",
              "      <td>u guys think ur number one song spotify wrapped</td>\n",
              "      <td>1</td>\n",
              "    </tr>\n",
              "    <tr>\n",
              "      <th>52290</th>\n",
              "      <td>wanna know someone without basic music taste l...</td>\n",
              "      <td>1</td>\n",
              "    </tr>\n",
              "    <tr>\n",
              "      <th>87853</th>\n",
              "      <td>Now air Louis Tomlinson amp Bebe Rexha With Di...</td>\n",
              "      <td>0</td>\n",
              "    </tr>\n",
              "    <tr>\n",
              "      <th>694</th>\n",
              "      <td>Apple Music replay trash compared Spotify lol ...</td>\n",
              "      <td>0</td>\n",
              "    </tr>\n",
              "    <tr>\n",
              "      <th>73196</th>\n",
              "      <td>Where Spotify wrapped like I finna SPAZZ Spotify</td>\n",
              "      <td>1</td>\n",
              "    </tr>\n",
              "    <tr>\n",
              "      <th>16532</th>\n",
              "      <td>ine even gotta look apple music summary cause ...</td>\n",
              "      <td>0</td>\n",
              "    </tr>\n",
              "  </tbody>\n",
              "</table>\n",
              "</div>\n",
              "      <button class=\"colab-df-convert\" onclick=\"convertToInteractive('df-837c44ee-531b-4f1d-91a2-eac63c62d856')\"\n",
              "              title=\"Convert this dataframe to an interactive table.\"\n",
              "              style=\"display:none;\">\n",
              "        \n",
              "  <svg xmlns=\"http://www.w3.org/2000/svg\" height=\"24px\"viewBox=\"0 0 24 24\"\n",
              "       width=\"24px\">\n",
              "    <path d=\"M0 0h24v24H0V0z\" fill=\"none\"/>\n",
              "    <path d=\"M18.56 5.44l.94 2.06.94-2.06 2.06-.94-2.06-.94-.94-2.06-.94 2.06-2.06.94zm-11 1L8.5 8.5l.94-2.06 2.06-.94-2.06-.94L8.5 2.5l-.94 2.06-2.06.94zm10 10l.94 2.06.94-2.06 2.06-.94-2.06-.94-.94-2.06-.94 2.06-2.06.94z\"/><path d=\"M17.41 7.96l-1.37-1.37c-.4-.4-.92-.59-1.43-.59-.52 0-1.04.2-1.43.59L10.3 9.45l-7.72 7.72c-.78.78-.78 2.05 0 2.83L4 21.41c.39.39.9.59 1.41.59.51 0 1.02-.2 1.41-.59l7.78-7.78 2.81-2.81c.8-.78.8-2.07 0-2.86zM5.41 20L4 18.59l7.72-7.72 1.47 1.35L5.41 20z\"/>\n",
              "  </svg>\n",
              "      </button>\n",
              "      \n",
              "  <style>\n",
              "    .colab-df-container {\n",
              "      display:flex;\n",
              "      flex-wrap:wrap;\n",
              "      gap: 12px;\n",
              "    }\n",
              "\n",
              "    .colab-df-convert {\n",
              "      background-color: #E8F0FE;\n",
              "      border: none;\n",
              "      border-radius: 50%;\n",
              "      cursor: pointer;\n",
              "      display: none;\n",
              "      fill: #1967D2;\n",
              "      height: 32px;\n",
              "      padding: 0 0 0 0;\n",
              "      width: 32px;\n",
              "    }\n",
              "\n",
              "    .colab-df-convert:hover {\n",
              "      background-color: #E2EBFA;\n",
              "      box-shadow: 0px 1px 2px rgba(60, 64, 67, 0.3), 0px 1px 3px 1px rgba(60, 64, 67, 0.15);\n",
              "      fill: #174EA6;\n",
              "    }\n",
              "\n",
              "    [theme=dark] .colab-df-convert {\n",
              "      background-color: #3B4455;\n",
              "      fill: #D2E3FC;\n",
              "    }\n",
              "\n",
              "    [theme=dark] .colab-df-convert:hover {\n",
              "      background-color: #434B5C;\n",
              "      box-shadow: 0px 1px 3px 1px rgba(0, 0, 0, 0.15);\n",
              "      filter: drop-shadow(0px 1px 2px rgba(0, 0, 0, 0.3));\n",
              "      fill: #FFFFFF;\n",
              "    }\n",
              "  </style>\n",
              "\n",
              "      <script>\n",
              "        const buttonEl =\n",
              "          document.querySelector('#df-837c44ee-531b-4f1d-91a2-eac63c62d856 button.colab-df-convert');\n",
              "        buttonEl.style.display =\n",
              "          google.colab.kernel.accessAllowed ? 'block' : 'none';\n",
              "\n",
              "        async function convertToInteractive(key) {\n",
              "          const element = document.querySelector('#df-837c44ee-531b-4f1d-91a2-eac63c62d856');\n",
              "          const dataTable =\n",
              "            await google.colab.kernel.invokeFunction('convertToInteractive',\n",
              "                                                     [key], {});\n",
              "          if (!dataTable) return;\n",
              "\n",
              "          const docLinkHtml = 'Like what you see? Visit the ' +\n",
              "            '<a target=\"_blank\" href=https://colab.research.google.com/notebooks/data_table.ipynb>data table notebook</a>'\n",
              "            + ' to learn more about interactive tables.';\n",
              "          element.innerHTML = '';\n",
              "          dataTable['output_type'] = 'display_data';\n",
              "          await google.colab.output.renderOutput(dataTable, element);\n",
              "          const docLink = document.createElement('div');\n",
              "          docLink.innerHTML = docLinkHtml;\n",
              "          element.appendChild(docLink);\n",
              "        }\n",
              "      </script>\n",
              "    </div>\n",
              "  </div>\n",
              "  "
            ]
          },
          "metadata": {},
          "execution_count": 20
        }
      ]
    },
    {
      "cell_type": "code",
      "source": [
        "test1.tail(10)"
      ],
      "metadata": {
        "colab": {
          "base_uri": "https://localhost:8080/",
          "height": 363
        },
        "id": "LK_00GCOKcX-",
        "outputId": "a29515c9-1acc-4bed-bf0b-da00a905c957"
      },
      "execution_count": null,
      "outputs": [
        {
          "output_type": "execute_result",
          "data": {
            "text/plain": [
              "                                                   tweet  score\n",
              "51146            I wish I Spotify make Kwakupalooza like      1\n",
              "34749  apple musicone month three months four months ...      0\n",
              "24389             ask Apple Music playlist want bro lock      0\n",
              "28519  Dear Apple AppleMusic please add payment metho...      0\n",
              "79489                      year spotify wrapped get WETH      1\n",
              "59609              I NEED BETTER TOGETHER ON SPOTIFY NOW      1\n",
              "14960                                  Apple Music buggy      0\n",
              "56802  Fatal Love almost M Get final streams Spotify ...      1\n",
              "85779  Vou fingir surpresa quando equal sign estiver ...      1\n",
              "38980                  I know Apple Music user I see one      0"
            ],
            "text/html": [
              "\n",
              "  <div id=\"df-aba237fd-945b-4f19-b38b-6ac3374b8e8f\">\n",
              "    <div class=\"colab-df-container\">\n",
              "      <div>\n",
              "<style scoped>\n",
              "    .dataframe tbody tr th:only-of-type {\n",
              "        vertical-align: middle;\n",
              "    }\n",
              "\n",
              "    .dataframe tbody tr th {\n",
              "        vertical-align: top;\n",
              "    }\n",
              "\n",
              "    .dataframe thead th {\n",
              "        text-align: right;\n",
              "    }\n",
              "</style>\n",
              "<table border=\"1\" class=\"dataframe\">\n",
              "  <thead>\n",
              "    <tr style=\"text-align: right;\">\n",
              "      <th></th>\n",
              "      <th>tweet</th>\n",
              "      <th>score</th>\n",
              "    </tr>\n",
              "  </thead>\n",
              "  <tbody>\n",
              "    <tr>\n",
              "      <th>51146</th>\n",
              "      <td>I wish I Spotify make Kwakupalooza like</td>\n",
              "      <td>1</td>\n",
              "    </tr>\n",
              "    <tr>\n",
              "      <th>34749</th>\n",
              "      <td>apple musicone month three months four months ...</td>\n",
              "      <td>0</td>\n",
              "    </tr>\n",
              "    <tr>\n",
              "      <th>24389</th>\n",
              "      <td>ask Apple Music playlist want bro lock</td>\n",
              "      <td>0</td>\n",
              "    </tr>\n",
              "    <tr>\n",
              "      <th>28519</th>\n",
              "      <td>Dear Apple AppleMusic please add payment metho...</td>\n",
              "      <td>0</td>\n",
              "    </tr>\n",
              "    <tr>\n",
              "      <th>79489</th>\n",
              "      <td>year spotify wrapped get WETH</td>\n",
              "      <td>1</td>\n",
              "    </tr>\n",
              "    <tr>\n",
              "      <th>59609</th>\n",
              "      <td>I NEED BETTER TOGETHER ON SPOTIFY NOW</td>\n",
              "      <td>1</td>\n",
              "    </tr>\n",
              "    <tr>\n",
              "      <th>14960</th>\n",
              "      <td>Apple Music buggy</td>\n",
              "      <td>0</td>\n",
              "    </tr>\n",
              "    <tr>\n",
              "      <th>56802</th>\n",
              "      <td>Fatal Love almost M Get final streams Spotify ...</td>\n",
              "      <td>1</td>\n",
              "    </tr>\n",
              "    <tr>\n",
              "      <th>85779</th>\n",
              "      <td>Vou fingir surpresa quando equal sign estiver ...</td>\n",
              "      <td>1</td>\n",
              "    </tr>\n",
              "    <tr>\n",
              "      <th>38980</th>\n",
              "      <td>I know Apple Music user I see one</td>\n",
              "      <td>0</td>\n",
              "    </tr>\n",
              "  </tbody>\n",
              "</table>\n",
              "</div>\n",
              "      <button class=\"colab-df-convert\" onclick=\"convertToInteractive('df-aba237fd-945b-4f19-b38b-6ac3374b8e8f')\"\n",
              "              title=\"Convert this dataframe to an interactive table.\"\n",
              "              style=\"display:none;\">\n",
              "        \n",
              "  <svg xmlns=\"http://www.w3.org/2000/svg\" height=\"24px\"viewBox=\"0 0 24 24\"\n",
              "       width=\"24px\">\n",
              "    <path d=\"M0 0h24v24H0V0z\" fill=\"none\"/>\n",
              "    <path d=\"M18.56 5.44l.94 2.06.94-2.06 2.06-.94-2.06-.94-.94-2.06-.94 2.06-2.06.94zm-11 1L8.5 8.5l.94-2.06 2.06-.94-2.06-.94L8.5 2.5l-.94 2.06-2.06.94zm10 10l.94 2.06.94-2.06 2.06-.94-2.06-.94-.94-2.06-.94 2.06-2.06.94z\"/><path d=\"M17.41 7.96l-1.37-1.37c-.4-.4-.92-.59-1.43-.59-.52 0-1.04.2-1.43.59L10.3 9.45l-7.72 7.72c-.78.78-.78 2.05 0 2.83L4 21.41c.39.39.9.59 1.41.59.51 0 1.02-.2 1.41-.59l7.78-7.78 2.81-2.81c.8-.78.8-2.07 0-2.86zM5.41 20L4 18.59l7.72-7.72 1.47 1.35L5.41 20z\"/>\n",
              "  </svg>\n",
              "      </button>\n",
              "      \n",
              "  <style>\n",
              "    .colab-df-container {\n",
              "      display:flex;\n",
              "      flex-wrap:wrap;\n",
              "      gap: 12px;\n",
              "    }\n",
              "\n",
              "    .colab-df-convert {\n",
              "      background-color: #E8F0FE;\n",
              "      border: none;\n",
              "      border-radius: 50%;\n",
              "      cursor: pointer;\n",
              "      display: none;\n",
              "      fill: #1967D2;\n",
              "      height: 32px;\n",
              "      padding: 0 0 0 0;\n",
              "      width: 32px;\n",
              "    }\n",
              "\n",
              "    .colab-df-convert:hover {\n",
              "      background-color: #E2EBFA;\n",
              "      box-shadow: 0px 1px 2px rgba(60, 64, 67, 0.3), 0px 1px 3px 1px rgba(60, 64, 67, 0.15);\n",
              "      fill: #174EA6;\n",
              "    }\n",
              "\n",
              "    [theme=dark] .colab-df-convert {\n",
              "      background-color: #3B4455;\n",
              "      fill: #D2E3FC;\n",
              "    }\n",
              "\n",
              "    [theme=dark] .colab-df-convert:hover {\n",
              "      background-color: #434B5C;\n",
              "      box-shadow: 0px 1px 3px 1px rgba(0, 0, 0, 0.15);\n",
              "      filter: drop-shadow(0px 1px 2px rgba(0, 0, 0, 0.3));\n",
              "      fill: #FFFFFF;\n",
              "    }\n",
              "  </style>\n",
              "\n",
              "      <script>\n",
              "        const buttonEl =\n",
              "          document.querySelector('#df-aba237fd-945b-4f19-b38b-6ac3374b8e8f button.colab-df-convert');\n",
              "        buttonEl.style.display =\n",
              "          google.colab.kernel.accessAllowed ? 'block' : 'none';\n",
              "\n",
              "        async function convertToInteractive(key) {\n",
              "          const element = document.querySelector('#df-aba237fd-945b-4f19-b38b-6ac3374b8e8f');\n",
              "          const dataTable =\n",
              "            await google.colab.kernel.invokeFunction('convertToInteractive',\n",
              "                                                     [key], {});\n",
              "          if (!dataTable) return;\n",
              "\n",
              "          const docLinkHtml = 'Like what you see? Visit the ' +\n",
              "            '<a target=\"_blank\" href=https://colab.research.google.com/notebooks/data_table.ipynb>data table notebook</a>'\n",
              "            + ' to learn more about interactive tables.';\n",
              "          element.innerHTML = '';\n",
              "          dataTable['output_type'] = 'display_data';\n",
              "          await google.colab.output.renderOutput(dataTable, element);\n",
              "          const docLink = document.createElement('div');\n",
              "          docLink.innerHTML = docLinkHtml;\n",
              "          element.appendChild(docLink);\n",
              "        }\n",
              "      </script>\n",
              "    </div>\n",
              "  </div>\n",
              "  "
            ]
          },
          "metadata": {},
          "execution_count": 21
        }
      ]
    },
    {
      "cell_type": "code",
      "source": [
        "model.save('ModelBert.h5')\n",
        "print('Model Saved!')"
      ],
      "metadata": {
        "colab": {
          "base_uri": "https://localhost:8080/"
        },
        "id": "oxffFP47LWHW",
        "outputId": "98ca5684-7b6e-4f31-ad1c-698dad78a656"
      },
      "execution_count": null,
      "outputs": [
        {
          "output_type": "stream",
          "name": "stdout",
          "text": [
            "Model Saved!\n"
          ]
        }
      ]
    }
  ]
}